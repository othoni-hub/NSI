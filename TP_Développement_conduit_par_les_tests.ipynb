{
  "nbformat": 4,
  "nbformat_minor": 0,
  "metadata": {
    "kernelspec": {
      "display_name": "Python 3",
      "language": "python",
      "name": "python3"
    },
    "language_info": {
      "codemirror_mode": {
        "name": "ipython",
        "version": 3
      },
      "file_extension": ".py",
      "mimetype": "text/x-python",
      "name": "python",
      "nbconvert_exporter": "python",
      "pygments_lexer": "ipython3",
      "version": "3.7.1"
    },
    "colab": {
      "name": "TP_Développement_conduit_par_les_tests.ipynb",
      "provenance": [],
      "include_colab_link": true
    }
  },
  "cells": [
    {
      "cell_type": "markdown",
      "metadata": {
        "id": "view-in-github",
        "colab_type": "text"
      },
      "source": [
        "<a href=\"https://colab.research.google.com/github/othoni-hub/NSI/blob/main/TP_D%C3%A9veloppement_conduit_par_les_tests.ipynb\" target=\"_parent\"><img src=\"https://colab.research.google.com/assets/colab-badge.svg\" alt=\"Open In Colab\"/></a>"
      ]
    },
    {
      "cell_type": "markdown",
      "metadata": {
        "id": "YTk9ut2CNxnF"
      },
      "source": [
        "# TP : *TEST DRIVEN DEVELOPMENT* (Développement conduit par les tests)\n",
        "\n",
        "## Olivier THÖNI\n",
        "\n",
        "## FACULTÉ d'ÉDUCATION UCO\n",
        "\n",
        "*document sous licence Creative Commons - CC : By/NC/SA*\n",
        "\n",
        "\n"
      ]
    },
    {
      "cell_type": "markdown",
      "metadata": {
        "id": "qZdEhcwbNxnJ"
      },
      "source": [
        "**Le *Test Driven Development* (TDD) est une méthode de programmation particulière dans laquelle on commence par écrire les tests des fonctions avant de commencer à coder.**\n",
        "\n",
        "Ce procédé oblige à bien réfléchir à ce qu'on attend de la fonction avant de se lancer dans le codage.\n",
        "\n",
        "Voyons cela sur un exemple de traitement de chaînes de caractères.\n",
        "\n",
        "**1. Apparition d'une lettre dans un texte**\n",
        "\n",
        "Par exemple, nous cherchons à savoir si une lettre dans un texte.\n",
        "Pour cela, nous allons générer une fonction *cherche_lettre* qui commencerait ainsi :"
      ]
    },
    {
      "cell_type": "code",
      "metadata": {
        "id": "h_At-UWENxnM"
      },
      "source": [
        "def cherche_lettre(texte,car):\n",
        "    '''\n",
        "    renvoie \"vrai\" si le caractère \"car\" figure dans le texte \"texte\"\n",
        "    préconditions : \"texte\" : texte à explorer (string)\n",
        "                    \"car\" : caractère recherché (string)\n",
        "    postconditions : True ou False (boolean)\n",
        "    '''"
      ],
      "execution_count": null,
      "outputs": []
    },
    {
      "cell_type": "markdown",
      "metadata": {
        "id": "pNbo2-a_PnC8"
      },
      "source": [
        "* La 1<sup>ère</sup> ligne : def cherche_lettre(texte,car)\n",
        "s'appelle l'**entête** de la fonction \"cherche_lettre\"\n",
        "\n",
        "* Le paragraphe entre '''' et '''' constitue les **spécifications** de la fonction.\n",
        "\n",
        "* \"texte\" et \"car\" sont les **paramètres** de la fonction, ils sont de type \"chaîne de caractères\".\n",
        "\n",
        "* On appellera la fonction ainsi, par exemple : \n",
        "cherche_lettre(\"BERNADETTE\",\"T\"), le temps de l'exécution de la fonction, la variable \"texte\" aura pour contenu \"BERNADETTE\" et la variable \"car\" vaudra \"T\".\n",
        "\n",
        "* La fonction se conclura par la commande **return** qui renverra **son** résultat au programme principal."
      ]
    },
    {
      "cell_type": "markdown",
      "metadata": {
        "id": "wkYOJ51jNxnP"
      },
      "source": [
        "# **Les Tests :**\n",
        "\n",
        "Si on teste ainsi :"
      ]
    },
    {
      "cell_type": "code",
      "metadata": {
        "id": "vBOX3ofMNxnQ",
        "colab": {
          "base_uri": "https://localhost:8080/",
          "height": 34
        },
        "outputId": "d513f675-1bbd-4941-e541-eb0918aa3ff0"
      },
      "source": [
        "print(cherche_lettre(\"BERNADETTE\", \"T\"))"
      ],
      "execution_count": null,
      "outputs": [
        {
          "output_type": "stream",
          "text": [
            "None\n"
          ],
          "name": "stdout"
        }
      ]
    },
    {
      "cell_type": "markdown",
      "metadata": {
        "id": "4B1jfoP3NxnV"
      },
      "source": [
        "... on s'attend à ce qu'il soit répondu : \"True\".\n",
        "\n",
        "Et si on teste :"
      ]
    },
    {
      "cell_type": "code",
      "metadata": {
        "id": "X0r6QxraNxnW",
        "colab": {
          "base_uri": "https://localhost:8080/",
          "height": 34
        },
        "outputId": "e3d29491-c858-42a1-938c-7a2eaab725a3"
      },
      "source": [
        "print(cherche_lettre(\"BERNADETTE\", \"Z\"))"
      ],
      "execution_count": null,
      "outputs": [
        {
          "output_type": "stream",
          "text": [
            "None\n"
          ],
          "name": "stdout"
        }
      ]
    },
    {
      "cell_type": "markdown",
      "metadata": {
        "id": "VxVopBwpNxna"
      },
      "source": [
        "... on espère qu'il sera retourné : \"False\"\n",
        "\n",
        "Nous sommes prêts à coder notre fonction :"
      ]
    },
    {
      "cell_type": "code",
      "metadata": {
        "id": "W6VaDsPONxnb"
      },
      "source": [
        "def cherche_lettre(texte,car):\n",
        "    '''\n",
        "    renvoie \"vrai\" si le caractère \"car\" figure dans le texte \"texte\"\n",
        "    préconditions : \"texte\" : texte à explorer (string)\n",
        "                    \"car\" : caractère recherché (string)\n",
        "    postconditions : \"trouve\" : True ou False (boolean)\n",
        "    '''\n",
        "    trouve = False # trouve est un \"drapeau\", qui va se lever une fois qu'on aura rencontré le caractère cherché\n",
        "    for k in range(len(texte)): # on parcourt tout le texte\n",
        "        print(texte[k])\n",
        "        if texte[k] == car:\n",
        "            trouve = True # si le caractère lu est le caractère cherché, on lève le drapeau \"trouve\"\n",
        "    if trouve :\n",
        "        print(car,\" apparaît dans \", texte)\n",
        "    else : \n",
        "        print(car,\"n'apparaît pas dans \", texte)\n",
        "    return trouve"
      ],
      "execution_count": null,
      "outputs": []
    },
    {
      "cell_type": "code",
      "metadata": {
        "id": "Jl5ED7OdNxng",
        "colab": {
          "base_uri": "https://localhost:8080/",
          "height": 217
        },
        "outputId": "44e37471-2bc2-4c24-ec15-a01e87d3911c"
      },
      "source": [
        "print(cherche_lettre(\"BERNADETTE\", \"T\"))"
      ],
      "execution_count": null,
      "outputs": [
        {
          "output_type": "stream",
          "text": [
            "B\n",
            "E\n",
            "R\n",
            "N\n",
            "A\n",
            "D\n",
            "E\n",
            "T\n",
            "T\n",
            "E\n",
            "T  apparaît dans  BERNADETTE\n",
            "True\n"
          ],
          "name": "stdout"
        }
      ]
    },
    {
      "cell_type": "code",
      "metadata": {
        "id": "9Rx5A8pDNxnk",
        "colab": {
          "base_uri": "https://localhost:8080/",
          "height": 217
        },
        "outputId": "d436b155-ff9f-48ee-be53-ca4a75bad016"
      },
      "source": [
        "print(cherche_lettre(\"BERNADETTE\", \"Z\"))"
      ],
      "execution_count": null,
      "outputs": [
        {
          "output_type": "stream",
          "text": [
            "B\n",
            "E\n",
            "R\n",
            "N\n",
            "A\n",
            "D\n",
            "E\n",
            "T\n",
            "T\n",
            "E\n",
            "Z n'apparaît pas dans  BERNADETTE\n",
            "False\n"
          ],
          "name": "stdout"
        }
      ]
    },
    {
      "cell_type": "markdown",
      "metadata": {
        "id": "17sd-jd-Nxnt"
      },
      "source": [
        "Youpi !\n",
        "\n",
        "Nettoyons un peu le code pour enlever les affichages :"
      ]
    },
    {
      "cell_type": "code",
      "metadata": {
        "id": "llShQpgPNxnt"
      },
      "source": [
        "def cherche_lettre(texte,car):\n",
        "    '''\n",
        "    renvoie \"vrai\" si le caractère \"car\" figure dans le texte \"texte\"\n",
        "    préconditions : \"texte\" : texte à explorer (string)\n",
        "                    \"car\" : caractère recherché (string)\n",
        "    postconditions : \"trouve\" : True ou False (boolean)\n",
        "    '''\n",
        "    trouve = False\n",
        "    for k in range(len(texte)):\n",
        "        if texte[k] == car:\n",
        "            trouve = True\n",
        "    return trouve"
      ],
      "execution_count": null,
      "outputs": []
    },
    {
      "cell_type": "markdown",
      "metadata": {
        "id": "o_rn4ogjNxnw"
      },
      "source": [
        "Dans la pratique, on remplace les \"print\" par des **\"assert\"** (littéralement : \"assure-toi que...\"). Si le test est vrai, il ne se passe rien, sinon, cela déclenche une erreur :"
      ]
    },
    {
      "cell_type": "code",
      "metadata": {
        "id": "D29o2B9YNxnx"
      },
      "source": [
        "assert cherche_lettre(\"BERNADETTE\", \"T\")"
      ],
      "execution_count": null,
      "outputs": []
    },
    {
      "cell_type": "markdown",
      "metadata": {
        "id": "iiDzdK1aNxnz"
      },
      "source": [
        "équivalent à :\n",
        "\n",
        "assert cherche_lettre(\"BERNADETTE\", \"T\") == True\n",
        "\n",
        "... remarque : il ne s'est rien passé de visible..."
      ]
    },
    {
      "cell_type": "code",
      "metadata": {
        "id": "84RwYtqTNxn1",
        "colab": {
          "base_uri": "https://localhost:8080/",
          "height": 161
        },
        "outputId": "a84bbf20-0f98-46f0-f614-637b1f10075f"
      },
      "source": [
        "assert cherche_lettre(\"BERNADETTE\", \"Z\")"
      ],
      "execution_count": null,
      "outputs": [
        {
          "output_type": "error",
          "ename": "AssertionError",
          "evalue": "ignored",
          "traceback": [
            "\u001b[0;31m---------------------------------------------------------------------------\u001b[0m",
            "\u001b[0;31mAssertionError\u001b[0m                            Traceback (most recent call last)",
            "\u001b[0;32m<ipython-input-9-320de64dd831>\u001b[0m in \u001b[0;36m<module>\u001b[0;34m()\u001b[0m\n\u001b[0;32m----> 1\u001b[0;31m \u001b[0;32massert\u001b[0m \u001b[0mcherche_lettre\u001b[0m\u001b[0;34m(\u001b[0m\u001b[0;34m\"BERNADETTE\"\u001b[0m\u001b[0;34m,\u001b[0m \u001b[0;34m\"Z\"\u001b[0m\u001b[0;34m)\u001b[0m\u001b[0;34m\u001b[0m\u001b[0;34m\u001b[0m\u001b[0m\n\u001b[0m",
            "\u001b[0;31mAssertionError\u001b[0m: "
          ]
        }
      ]
    },
    {
      "cell_type": "markdown",
      "metadata": {
        "id": "O-XAoifaNxn8"
      },
      "source": [
        "BOOM ! erreur violente de Python :(\n",
        "\n",
        "Il existe une commande permettant de ne pas bloquer l'exécution du programme en cas de retour \"*False*\" après un \"*assert*\" : le duo \"*try:*\" et \"*except:*\" : (même structure que \"*if... : ... else :...*\""
      ]
    },
    {
      "cell_type": "code",
      "metadata": {
        "id": "c6G8mxEsNxn9",
        "colab": {
          "base_uri": "https://localhost:8080/",
          "height": 33
        },
        "outputId": "0d340e66-81ee-41c1-8df6-54409660a05f"
      },
      "source": [
        "try :\n",
        "    assert cherche_lettre(\"BERNADETTE\", \"Z\")\n",
        "except :\n",
        "    print('Erreur : Lettre non présente')"
      ],
      "execution_count": null,
      "outputs": [
        {
          "output_type": "stream",
          "text": [
            "Erreur : Lettre non présente\n"
          ],
          "name": "stdout"
        }
      ]
    },
    {
      "cell_type": "code",
      "metadata": {
        "id": "MX7_HY2ONxn_"
      },
      "source": [
        "assert not cherche_lettre(\"BERNADETTE\", \"Z\")"
      ],
      "execution_count": null,
      "outputs": []
    },
    {
      "cell_type": "markdown",
      "metadata": {
        "id": "SGIZX1L3NxoC"
      },
      "source": [
        "...Rien ! Nada ! Nothing ! Tout est tranquille..."
      ]
    },
    {
      "cell_type": "markdown",
      "metadata": {
        "id": "5gI8J54oNxoC"
      },
      "source": [
        "Proverbe Shadok : \"*et plus ils faisaient d' assert, plus il ne se passait rien et ça les rassurait !*\"\n",
        "\n",
        "\n",
        "**2. Compteur du nombre d'occurrences d'une lettre dans un texte**\n",
        "\n",
        "Procédons de même : on veut écrire une fonction \"compte_lettre\" telle que :"
      ]
    },
    {
      "cell_type": "code",
      "metadata": {
        "id": "qA8eABI7NxoD"
      },
      "source": [
        "def compte_lettre(texte,car):\n",
        "    '''\n",
        "    Compte le nombre d'apparitions du caractère car dans le texte\n",
        "    préconditions : \"texte\" : texte à explorer (string)\n",
        "                    \"car\" : caractère recherché (string)\n",
        "    postconditions : \"N\" : nombre d'apparition de \"car\" dans \"texte\" (int)\n",
        "    '''"
      ],
      "execution_count": null,
      "outputs": []
    },
    {
      "cell_type": "markdown",
      "metadata": {
        "id": "3bkI6PFGNxoG"
      },
      "source": [
        "Nos futurs tests :"
      ]
    },
    {
      "cell_type": "code",
      "metadata": {
        "id": "lwkAHzN8NxoG",
        "colab": {
          "base_uri": "https://localhost:8080/",
          "height": 178
        },
        "outputId": "50b8bee3-d09b-42ec-bec2-620215ee2100"
      },
      "source": [
        "assert compte_lettre('BERNADETTE','E') == 3\n",
        "assert compte_lettre('BERNADETTE','Z') == 0\n"
      ],
      "execution_count": null,
      "outputs": [
        {
          "output_type": "error",
          "ename": "AssertionError",
          "evalue": "ignored",
          "traceback": [
            "\u001b[0;31m---------------------------------------------------------------------------\u001b[0m",
            "\u001b[0;31mAssertionError\u001b[0m                            Traceback (most recent call last)",
            "\u001b[0;32m<ipython-input-13-447bcb293f3a>\u001b[0m in \u001b[0;36m<module>\u001b[0;34m()\u001b[0m\n\u001b[0;32m----> 1\u001b[0;31m \u001b[0;32massert\u001b[0m \u001b[0mcompte_lettre\u001b[0m\u001b[0;34m(\u001b[0m\u001b[0;34m'BERNADETTE'\u001b[0m\u001b[0;34m,\u001b[0m\u001b[0;34m'E'\u001b[0m\u001b[0;34m)\u001b[0m \u001b[0;34m==\u001b[0m \u001b[0;36m3\u001b[0m\u001b[0;34m\u001b[0m\u001b[0;34m\u001b[0m\u001b[0m\n\u001b[0m\u001b[1;32m      2\u001b[0m \u001b[0;32massert\u001b[0m \u001b[0mcompte_lettre\u001b[0m\u001b[0;34m(\u001b[0m\u001b[0;34m'BERNADETTE'\u001b[0m\u001b[0;34m,\u001b[0m\u001b[0;34m'Z'\u001b[0m\u001b[0;34m)\u001b[0m \u001b[0;34m==\u001b[0m \u001b[0;36m0\u001b[0m\u001b[0;34m\u001b[0m\u001b[0;34m\u001b[0m\u001b[0m\n",
            "\u001b[0;31mAssertionError\u001b[0m: "
          ]
        }
      ]
    },
    {
      "cell_type": "code",
      "metadata": {
        "id": "NATze1JFNxoJ"
      },
      "source": [
        "def compte_lettre(texte,car):\n",
        "    '''\n",
        "    Compte le nombre d'apparitions du caractère car dans le texte\n",
        "    préconditions : \"texte\" : texte à explorer (string)\n",
        "                    \"car\" : caractère recherché (string)\n",
        "    postconditions : \"N\" : nombre d'apparition de \"car\" dans \"texte\" (int)\n",
        "    '''\n",
        "    N = 0\n",
        "    for k in range(len(texte)):\n",
        "        if texte[k] == car:\n",
        "            N = N+1\n",
        "    return N\n",
        "        "
      ],
      "execution_count": null,
      "outputs": []
    },
    {
      "cell_type": "code",
      "metadata": {
        "id": "AT-LK99lNxoN"
      },
      "source": [
        "assert compte_lettre('BERNADETTE','E') == 3\n",
        "assert compte_lettre('BERNADETTE','Z') == 0"
      ],
      "execution_count": null,
      "outputs": []
    },
    {
      "cell_type": "markdown",
      "metadata": {
        "id": "o7DjorU1NxoR"
      },
      "source": [
        "Pas de réaction... Ouf !"
      ]
    },
    {
      "cell_type": "markdown",
      "metadata": {
        "id": "SUNyM6MRNxoS"
      },
      "source": [
        "Ne reste plus qu'à trouver à quelles places se situent les occurrences du caractère cherché dans le texte...\n",
        "\n",
        "**3. Places du caractère cherché dans le texte**"
      ]
    },
    {
      "cell_type": "code",
      "metadata": {
        "id": "mXA-ZIYXNxoT"
      },
      "source": [
        "def place_lettre(texte,car):\n",
        "    '''\n",
        "    Indique les positions du caractère \"car\" dans le texte \"texte\"\n",
        "    préconditions : \"texte\" : texte à explorer (string)\n",
        "                    \"car\" : caractère recherché (string)\n",
        "    postconditions : \"L\" : liste des positions de \"car\" dans \"texte\" (1ère = 0) (list)\n",
        "    '''"
      ],
      "execution_count": null,
      "outputs": []
    },
    {
      "cell_type": "code",
      "metadata": {
        "id": "oQ1Qp7sgNxoW"
      },
      "source": [
        "place_lettre('BERNADETTE','E')"
      ],
      "execution_count": null,
      "outputs": []
    },
    {
      "cell_type": "markdown",
      "metadata": {
        "id": "7-VKR7zANxof"
      },
      "source": [
        "... doit renvoyer [1,6,9],\n",
        "\n",
        "tandis que "
      ]
    },
    {
      "cell_type": "code",
      "metadata": {
        "id": "95zehLH3Nxoj"
      },
      "source": [
        "place_lettre('BERNADETTE','Z')"
      ],
      "execution_count": null,
      "outputs": []
    },
    {
      "cell_type": "markdown",
      "metadata": {
        "id": "aBCtw76RNxon"
      },
      "source": [
        "...doit indiquer que :\n",
        "'Z ne figure pas dans BERNADETTE'"
      ]
    },
    {
      "cell_type": "code",
      "metadata": {
        "id": "AIysFfHjNxoo"
      },
      "source": [
        "def place_lettre(texte,car):\n",
        "    '''\n",
        "    Indique les positions du caractère \"car\" dans le texte \"texte\"\n",
        "    préconditions : \"texte\" : texte à explorer (string)\n",
        "                    \"car\" : caractère recherché (string)\n",
        "    postconditions : \"L\" : liste des positions de \"car\" dans \"texte\" (1ère = 0) (list)\n",
        "    '''\n",
        "    L = []\n",
        "    for k in range(len(texte)):\n",
        "        if texte[k] == car:\n",
        "            L.append(k) # La méthode append permet d'ajouter un élément à la fin d'une liste\n",
        "    if L == []:\n",
        "        print(car,\"n'apparaît pas dans\",texte)\n",
        "    return L\n",
        "    "
      ],
      "execution_count": null,
      "outputs": []
    },
    {
      "cell_type": "code",
      "metadata": {
        "id": "rHJCGOYLNxor",
        "colab": {
          "base_uri": "https://localhost:8080/",
          "height": 33
        },
        "outputId": "d74c1be2-8ad0-49cd-8bd6-be0ff6302262"
      },
      "source": [
        "place_lettre('BERNADETTE','E')"
      ],
      "execution_count": null,
      "outputs": [
        {
          "output_type": "execute_result",
          "data": {
            "text/plain": [
              "[1, 6, 9]"
            ]
          },
          "metadata": {
            "tags": []
          },
          "execution_count": 20
        }
      ]
    },
    {
      "cell_type": "code",
      "metadata": {
        "id": "kfLx38vaNxow",
        "colab": {
          "base_uri": "https://localhost:8080/",
          "height": 50
        },
        "outputId": "96c27338-e896-4e99-9da3-eaad552eade9"
      },
      "source": [
        "place_lettre('BERNADETTE','Z')"
      ],
      "execution_count": null,
      "outputs": [
        {
          "output_type": "stream",
          "text": [
            "Z n'apparaît pas dans BERNADETTE\n"
          ],
          "name": "stdout"
        },
        {
          "output_type": "execute_result",
          "data": {
            "text/plain": [
              "[]"
            ]
          },
          "metadata": {
            "tags": []
          },
          "execution_count": 21
        }
      ]
    },
    {
      "cell_type": "markdown",
      "metadata": {
        "id": "XMjvsp9fNxo0"
      },
      "source": [
        "Et voilà.\n",
        "\n",
        "Et si on faisait la liste des lettres ? (histoire d'utiliser un peu les dictionnaires...)\n",
        "\n",
        "**4. Liste des lettres avec leur nombre d'occurrences et leur place**"
      ]
    },
    {
      "cell_type": "code",
      "metadata": {
        "id": "vOl6tYKFNxo1"
      },
      "source": [
        "def liste_lettre(texte):\n",
        "    '''\n",
        "    Renvoie la liste des caractères présents dans le texte \"texte\", ainsi que leur nombre d'occurrences et leurs places\n",
        "    préconditions : \"texte\" : texte à explorer (string)\n",
        "    \n",
        "    postconditions : \"L\" : dictionnaire ayant pour clés les caractères dans \"texte\", et pour valeur la liste de\n",
        "    leurs places dans le texte (dict)\n",
        "    '''"
      ],
      "execution_count": null,
      "outputs": []
    },
    {
      "cell_type": "code",
      "metadata": {
        "id": "z1VejC37Nxo5"
      },
      "source": [
        "liste_lettre('BERNADETTE')"
      ],
      "execution_count": null,
      "outputs": []
    },
    {
      "cell_type": "markdown",
      "metadata": {
        "id": "7WbbId8kNxo7"
      },
      "source": [
        "...doit renvoyer :\n",
        "\n",
        "{\"B\": [0],\"E\" : [1,6,9],\"R\" : [2], ...}"
      ]
    },
    {
      "cell_type": "code",
      "metadata": {
        "id": "mrLeUo--Nxo8"
      },
      "source": [
        "def liste_lettres(texte):\n",
        "    '''\n",
        "    Renvoie la liste des caractères présents dans le texte \"texte\", ainsi que leur nombre d'occurrences et leurs places\n",
        "    préconditions : \"texte\" : texte à explorer (string)\n",
        "    \n",
        "    postconditions : \"D\" : dictionnaire ayant pour clés les caractères dans \"texte\", et pour valeur la liste de\n",
        "    leurs places dans le texte (dict)\n",
        "    '''\n",
        "    D = {} # La variable D est de type \"dictionnaire\" : chaque élément est constitué d'une clé, et d'une valeur (qui peut être une liste)\n",
        "    for k in range(len(texte)):\n",
        "        car = texte[k]\n",
        "        if car not in D:\n",
        "            D[car] = place_lettre(texte,car) # ajoute au dictionnaire la clé correspondant au nouveau caractère\n",
        "            # avec pour valeur la liste de ses positions\n",
        "    return D\n",
        "    "
      ],
      "execution_count": null,
      "outputs": []
    },
    {
      "cell_type": "code",
      "metadata": {
        "id": "7m9lmE1mh4rv"
      },
      "source": [
        ""
      ],
      "execution_count": null,
      "outputs": []
    },
    {
      "cell_type": "code",
      "metadata": {
        "id": "nvFNU6yrNxpB",
        "colab": {
          "base_uri": "https://localhost:8080/",
          "height": 33
        },
        "outputId": "4a913dbc-15f4-44db-d9e9-323f4b865574"
      },
      "source": [
        "liste_lettres('BERNADETTE')"
      ],
      "execution_count": null,
      "outputs": [
        {
          "output_type": "execute_result",
          "data": {
            "text/plain": [
              "{'A': [4], 'B': [0], 'D': [5], 'E': [1, 6, 9], 'N': [3], 'R': [2], 'T': [7, 8]}"
            ]
          },
          "metadata": {
            "tags": []
          },
          "execution_count": 25
        }
      ]
    },
    {
      "cell_type": "code",
      "metadata": {
        "id": "C14rD0GvNxpE"
      },
      "source": [
        "D = liste_lettres('BERNADETTE')"
      ],
      "execution_count": null,
      "outputs": []
    },
    {
      "cell_type": "code",
      "metadata": {
        "id": "Vex2A71oNxpH",
        "colab": {
          "base_uri": "https://localhost:8080/",
          "height": 33
        },
        "outputId": "78d62c9b-f7c5-43b0-fcf4-82c1b020f560"
      },
      "source": [
        "D.keys()"
      ],
      "execution_count": null,
      "outputs": [
        {
          "output_type": "execute_result",
          "data": {
            "text/plain": [
              "dict_keys(['B', 'E', 'R', 'N', 'A', 'D', 'T'])"
            ]
          },
          "metadata": {
            "tags": []
          },
          "execution_count": 27
        }
      ]
    },
    {
      "cell_type": "code",
      "metadata": {
        "id": "XY7L-MwmNxpK",
        "colab": {
          "base_uri": "https://localhost:8080/",
          "height": 33
        },
        "outputId": "b9deb40d-099a-4056-fab7-91ca32c9670f"
      },
      "source": [
        "D.values()"
      ],
      "execution_count": null,
      "outputs": [
        {
          "output_type": "execute_result",
          "data": {
            "text/plain": [
              "dict_values([[0], [1, 6, 9], [2], [3], [4], [5], [7, 8]])"
            ]
          },
          "metadata": {
            "tags": []
          },
          "execution_count": 28
        }
      ]
    },
    {
      "cell_type": "code",
      "metadata": {
        "id": "LCjQmuVnNxpP",
        "colab": {
          "base_uri": "https://localhost:8080/",
          "height": 134
        },
        "outputId": "033924ac-4f67-4d55-d17c-9ac28ee3d3ca"
      },
      "source": [
        "for car in D.keys(): # D.keys() désigne la liste des clés. Liste, donc itérable\n",
        "    print('Le caractère',car,'apparaît', len(D[car]), 'fois, en position',D[car])"
      ],
      "execution_count": null,
      "outputs": [
        {
          "output_type": "stream",
          "text": [
            "Le caractère B apparaît 1 fois, en position [0]\n",
            "Le caractère E apparaît 3 fois, en position [1, 6, 9]\n",
            "Le caractère R apparaît 1 fois, en position [2]\n",
            "Le caractère N apparaît 1 fois, en position [3]\n",
            "Le caractère A apparaît 1 fois, en position [4]\n",
            "Le caractère D apparaît 1 fois, en position [5]\n",
            "Le caractère T apparaît 2 fois, en position [7, 8]\n"
          ],
          "name": "stdout"
        }
      ]
    },
    {
      "cell_type": "code",
      "metadata": {
        "id": "3YLA6wsbNxpU"
      },
      "source": [
        ""
      ],
      "execution_count": null,
      "outputs": []
    }
  ]
}