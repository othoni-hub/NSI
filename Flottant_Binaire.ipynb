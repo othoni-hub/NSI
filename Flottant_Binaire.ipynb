{
  "nbformat": 4,
  "nbformat_minor": 0,
  "metadata": {
    "colab": {
      "name": "Flottant_Binaire.ipynb",
      "provenance": [],
      "authorship_tag": "ABX9TyPcz61XPj3JvcEPE/93Ktug",
      "include_colab_link": true
    },
    "kernelspec": {
      "name": "python3",
      "display_name": "Python 3"
    },
    "language_info": {
      "name": "python"
    }
  },
  "cells": [
    {
      "cell_type": "markdown",
      "metadata": {
        "id": "view-in-github",
        "colab_type": "text"
      },
      "source": [
        "<a href=\"https://colab.research.google.com/github/othoni-hub/NSI/blob/main/Flottant_Binaire.ipynb\" target=\"_parent\"><img src=\"https://colab.research.google.com/assets/colab-badge.svg\" alt=\"Open In Colab\"/></a>"
      ]
    },
    {
      "cell_type": "markdown",
      "metadata": {
        "id": "9MaKp1us-QiM"
      },
      "source": [
        "# **NSI - Thème : Représentation des données : valeurs et types de base**\n",
        "\n",
        "## **Écriture d'un flottant en binaire**\n",
        "\n",
        "<img src=\"https://drive.google.com/uc?id=12Wo3LubGGT4qOvYFAuLP4CyCuwjKNVuk\" width=\"230\" height=\"150\" align = \"right\"/>\n",
        "\n",
        "\n",
        "\n",
        "\n",
        "**O.Thöni - UCO**\n",
        "\n",
        "*document à l'usage exclusif des personnes concernées par la formation Master MEEF - NSI de l'UCO*\n",
        "\n"
      ]
    },
    {
      "cell_type": "code",
      "metadata": {
        "id": "5VI9B1zts1Dp"
      },
      "source": [
        "def log_base(N,base) :\n",
        "    '''Cette fonction reçoit deux entiers N  et \"base\" et retourne l'entier nb_chiffre_base, \n",
        "    nombre de chiffres nécessaires à l'écriture de N en base \"base\", \n",
        "    c'est-à-dire la plus grande puissance de \"base\" que l'on peut faire rentrer dans N'''\n",
        "\n",
        "    k=0 # k compte les boucles\n",
        "    p=1 # p vaut base^k\n",
        "\n",
        "    while(p <= N):\n",
        "        k = k+1\n",
        "        p = p*base\n",
        "    \n",
        "    nb_chiffre_base=k\n",
        "    return nb_chiffre_base\n",
        "    "
      ],
      "execution_count": 34,
      "outputs": []
    },
    {
      "cell_type": "code",
      "metadata": {
        "colab": {
          "base_uri": "https://localhost:8080/"
        },
        "id": "9nVBAWwQhFSi",
        "outputId": "04c927ae-b80c-447b-e96a-aa1b2b7b127a"
      },
      "source": [
        "nb_chiffres_mantisse = log_base(5.6875,2)\n",
        "nb_chiffres_mantisse"
      ],
      "execution_count": 35,
      "outputs": [
        {
          "output_type": "execute_result",
          "data": {
            "text/plain": [
              "3"
            ]
          },
          "metadata": {},
          "execution_count": 35
        }
      ]
    },
    {
      "cell_type": "code",
      "metadata": {
        "id": "OL58vOxluvcO"
      },
      "source": [
        "def decompose(N, base) :\n",
        "    '''Fonction qui reçoit deux entiers, N et base, calcule et affiche la décomposition de N dans la base \"base\"\n",
        "    et retourne la liste liste_chiffres_nb_converti des chiffres de N écrit dans la base \"base\" \n",
        "    Elle fait appel à la fonction log_base(N,base)'''\n",
        "\n",
        "    k = log_base(N,base)-1  # N s'écrit avec k chiffres en base \"base\", de 0 \n",
        "                            # donnnant les puissances de \"base\" de k-1 à 0\n",
        "    p = base**k\n",
        "\n",
        "    r=N # reste obtenu successivement en enlevant le bon multiple\n",
        "        # de chaque puissance de 4, en décroissant\n",
        "    converti=[] # \"converti\" est une liste, commençant vide,\n",
        "                # à laquelle vont venir s'ajouter les chiffres\n",
        "                # successifs du nombre converti en base 4\n",
        "            \n",
        "    print (N, \" = \", end ='')\n",
        "    while r != 0 & k >= -8:\n",
        "        c = int(r/p)   # calcul du k-eme chiffre (en partant de la droite) en base \"base\"\n",
        "        r=r - c*p           # calcul du nouveau reste\n",
        "        print (\" + \",c,\" x \",base,\"^\",k, sep='',end ='')\n",
        "        converti = converti + [c] # on rallonge la liste des chiffres du nombre converti\n",
        "        p = p / base\n",
        "        k = k - 1\n",
        "    print(' ')\n",
        "    liste_chiffres_nb_converti = converti\n",
        "    print('Liste des chiffres : ', converti)\n",
        "    return liste_chiffres_nb_converti\n"
      ],
      "execution_count": 40,
      "outputs": []
    },
    {
      "cell_type": "code",
      "metadata": {
        "colab": {
          "base_uri": "https://localhost:8080/"
        },
        "id": "P7hPPtGNg5uR",
        "outputId": "5120e851-4afd-4f71-f63f-3f03c7c15066"
      },
      "source": [
        "liste_chiffres_nombre_converti = decompose(5.6875,2)\n",
        "liste_chiffres_nombre_converti"
      ],
      "execution_count": 41,
      "outputs": [
        {
          "output_type": "stream",
          "name": "stdout",
          "text": [
            "5.6875  =  + 1 x 2^2 + 0 x 2^1 + 1 x 2^0 + 1 x 2^-1 + 0 x 2^-2 + 1 x 2^-3 + 1 x 2^-4 \n",
            "Liste des chiffres :  [1, 0, 1, 1, 0, 1, 1]\n"
          ]
        },
        {
          "output_type": "execute_result",
          "data": {
            "text/plain": [
              "[1, 0, 1, 1, 0, 1, 1]"
            ]
          },
          "metadata": {},
          "execution_count": 41
        }
      ]
    },
    {
      "cell_type": "code",
      "metadata": {
        "id": "mw8cwo_fiBrZ"
      },
      "source": [
        "def ecrit_binaire(N) :\n",
        "    L = decompose(N, 2)\n",
        "    nb_chiffres_mantisse = log_base(N,2)\n",
        "    print(\"En binaire, \",str(N),\" s'écrit : (\" , end = \"\")\n",
        "    for c in L[:nb_chiffres_mantisse] :\n",
        "        print(c, end =\"\")\n",
        "    print('.', end = \"\")\n",
        "    for c in L[nb_chiffres_mantisse:] :\n",
        "        print(c, end =\"\")\n",
        "    print(')_2')\n"
      ],
      "execution_count": 42,
      "outputs": []
    },
    {
      "cell_type": "code",
      "metadata": {
        "colab": {
          "base_uri": "https://localhost:8080/"
        },
        "id": "JDKLSgBiknZL",
        "outputId": "330fe684-03ca-484a-c0a1-92fbca4f9614"
      },
      "source": [
        "ecrit_binaire(5.6875)"
      ],
      "execution_count": 43,
      "outputs": [
        {
          "output_type": "stream",
          "name": "stdout",
          "text": [
            "5.6875  =  + 1 x 2^2 + 0 x 2^1 + 1 x 2^0 + 1 x 2^-1 + 0 x 2^-2 + 1 x 2^-3 + 1 x 2^-4 \n",
            "Liste des chiffres :  [1, 0, 1, 1, 0, 1, 1]\n",
            "En binaire,  5.6875  s'écrit : (101.1011)_2\n"
          ]
        }
      ]
    },
    {
      "cell_type": "code",
      "metadata": {
        "colab": {
          "base_uri": "https://localhost:8080/"
        },
        "id": "r3LIr3julFZJ",
        "outputId": "584a9f66-932b-4809-fd11-635da8f380a1"
      },
      "source": [
        "ecrit_binaire(1/3)"
      ],
      "execution_count": 44,
      "outputs": [
        {
          "output_type": "stream",
          "name": "stdout",
          "text": [
            "0.3333333333333333  =  + 0 x 2^-1 + 1 x 2^-2 + 0 x 2^-3 + 1 x 2^-4 + 0 x 2^-5 + 1 x 2^-6 + 0 x 2^-7 + 1 x 2^-8 + 0 x 2^-9 + 1 x 2^-10 + 0 x 2^-11 + 1 x 2^-12 + 0 x 2^-13 + 1 x 2^-14 + 0 x 2^-15 + 1 x 2^-16 + 0 x 2^-17 + 1 x 2^-18 + 0 x 2^-19 + 1 x 2^-20 + 0 x 2^-21 + 1 x 2^-22 + 0 x 2^-23 + 1 x 2^-24 + 0 x 2^-25 + 1 x 2^-26 + 0 x 2^-27 + 1 x 2^-28 + 0 x 2^-29 + 1 x 2^-30 + 0 x 2^-31 + 1 x 2^-32 + 0 x 2^-33 + 1 x 2^-34 + 0 x 2^-35 + 1 x 2^-36 + 0 x 2^-37 + 1 x 2^-38 + 0 x 2^-39 + 1 x 2^-40 + 0 x 2^-41 + 1 x 2^-42 + 0 x 2^-43 + 1 x 2^-44 + 0 x 2^-45 + 1 x 2^-46 + 0 x 2^-47 + 1 x 2^-48 + 0 x 2^-49 + 1 x 2^-50 + 0 x 2^-51 + 1 x 2^-52 + 0 x 2^-53 + 1 x 2^-54 \n",
            "Liste des chiffres :  [0, 1, 0, 1, 0, 1, 0, 1, 0, 1, 0, 1, 0, 1, 0, 1, 0, 1, 0, 1, 0, 1, 0, 1, 0, 1, 0, 1, 0, 1, 0, 1, 0, 1, 0, 1, 0, 1, 0, 1, 0, 1, 0, 1, 0, 1, 0, 1, 0, 1, 0, 1, 0, 1]\n",
            "En binaire,  0.3333333333333333  s'écrit : (.010101010101010101010101010101010101010101010101010101)_2\n"
          ]
        }
      ]
    },
    {
      "cell_type": "code",
      "metadata": {
        "colab": {
          "base_uri": "https://localhost:8080/"
        },
        "id": "qjC-5N2pnwvn",
        "outputId": "a89cbfaf-f0bc-4f64-ed22-0779dfaffded"
      },
      "source": [
        "ecrit_binaire(1/10)"
      ],
      "execution_count": 45,
      "outputs": [
        {
          "output_type": "stream",
          "name": "stdout",
          "text": [
            "0.1  =  + 0 x 2^-1 + 0 x 2^-2 + 0 x 2^-3 + 1 x 2^-4 + 1 x 2^-5 + 0 x 2^-6 + 0 x 2^-7 + 1 x 2^-8 + 1 x 2^-9 + 0 x 2^-10 + 0 x 2^-11 + 1 x 2^-12 + 1 x 2^-13 + 0 x 2^-14 + 0 x 2^-15 + 1 x 2^-16 + 1 x 2^-17 + 0 x 2^-18 + 0 x 2^-19 + 1 x 2^-20 + 1 x 2^-21 + 0 x 2^-22 + 0 x 2^-23 + 1 x 2^-24 + 1 x 2^-25 + 0 x 2^-26 + 0 x 2^-27 + 1 x 2^-28 + 1 x 2^-29 + 0 x 2^-30 + 0 x 2^-31 + 1 x 2^-32 + 1 x 2^-33 + 0 x 2^-34 + 0 x 2^-35 + 1 x 2^-36 + 1 x 2^-37 + 0 x 2^-38 + 0 x 2^-39 + 1 x 2^-40 + 1 x 2^-41 + 0 x 2^-42 + 0 x 2^-43 + 1 x 2^-44 + 1 x 2^-45 + 0 x 2^-46 + 0 x 2^-47 + 1 x 2^-48 + 1 x 2^-49 + 0 x 2^-50 + 0 x 2^-51 + 1 x 2^-52 + 1 x 2^-53 + 0 x 2^-54 + 1 x 2^-55 \n",
            "Liste des chiffres :  [0, 0, 0, 1, 1, 0, 0, 1, 1, 0, 0, 1, 1, 0, 0, 1, 1, 0, 0, 1, 1, 0, 0, 1, 1, 0, 0, 1, 1, 0, 0, 1, 1, 0, 0, 1, 1, 0, 0, 1, 1, 0, 0, 1, 1, 0, 0, 1, 1, 0, 0, 1, 1, 0, 1]\n",
            "En binaire,  0.1  s'écrit : (.0001100110011001100110011001100110011001100110011001101)_2\n"
          ]
        }
      ]
    },
    {
      "cell_type": "code",
      "metadata": {
        "id": "drAd4eMBondd"
      },
      "source": [
        ""
      ],
      "execution_count": null,
      "outputs": []
    }
  ]
}