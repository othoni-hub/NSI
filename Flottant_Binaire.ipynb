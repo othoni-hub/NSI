{
  "nbformat": 4,
  "nbformat_minor": 0,
  "metadata": {
    "colab": {
      "name": "Flottant_Binaire.ipynb",
      "provenance": [],
      "authorship_tag": "ABX9TyOY2mjCbSDGonty19hSarGW",
      "include_colab_link": true
    },
    "kernelspec": {
      "name": "python3",
      "display_name": "Python 3"
    },
    "language_info": {
      "name": "python"
    }
  },
  "cells": [
    {
      "cell_type": "markdown",
      "metadata": {
        "id": "view-in-github",
        "colab_type": "text"
      },
      "source": [
        "<a href=\"https://colab.research.google.com/github/othoni-hub/NSI/blob/main/Flottant_Binaire.ipynb\" target=\"_parent\"><img src=\"https://colab.research.google.com/assets/colab-badge.svg\" alt=\"Open In Colab\"/></a>"
      ]
    },
    {
      "cell_type": "markdown",
      "metadata": {
        "id": "9MaKp1us-QiM"
      },
      "source": [
        "# **NSI - Thème : Représentation des données : valeurs et types de base**\n",
        "\n",
        "## **Écriture d'un flottant en binaire**\n",
        "\n",
        "<img src=\"https://drive.google.com/uc?id=12Wo3LubGGT4qOvYFAuLP4CyCuwjKNVuk\" width=\"230\" height=\"150\" align = \"right\"/>\n",
        "\n",
        "\n",
        "\n",
        "\n",
        "**O.Thöni - UCO**\n",
        "\n",
        "*document à l'usage exclusif des personnes concernées par la formation Master MEEF - NSI de l'UCO*\n",
        "\n"
      ]
    },
    {
      "cell_type": "code",
      "metadata": {
        "id": "5VI9B1zts1Dp"
      },
      "source": [
        "def log_base(N,base) :\n",
        "    '''Cette fonction reçoit deux entiers N  et \"base\" et retourne l'entier nb_chiffre_base, \n",
        "    nombre de chiffres nécessaires à l'écriture de N en base \"base\", \n",
        "    c'est-à-dire la plus grande puissance de \"base\" que l'on peut faire rentrer dans N'''\n",
        "\n",
        "    k=0 # k compte les boucles\n",
        "    p=1 # p vaut base^k\n",
        "\n",
        "    while(p <= N):\n",
        "        k = k+1\n",
        "        p = p*base\n",
        "    \n",
        "    nb_chiffre_base=k\n",
        "    return nb_chiffre_base\n",
        "    "
      ],
      "execution_count": 34,
      "outputs": []
    },
    {
      "cell_type": "code",
      "metadata": {
        "colab": {
          "base_uri": "https://localhost:8080/"
        },
        "id": "9nVBAWwQhFSi",
        "outputId": "04c927ae-b80c-447b-e96a-aa1b2b7b127a"
      },
      "source": [
        "nb_chiffres_mantisse = log_base(5.6875,2)\n",
        "nb_chiffres_mantisse"
      ],
      "execution_count": 35,
      "outputs": [
        {
          "output_type": "execute_result",
          "data": {
            "text/plain": [
              "3"
            ]
          },
          "metadata": {},
          "execution_count": 35
        }
      ]
    },
    {
      "cell_type": "code",
      "metadata": {
        "id": "OL58vOxluvcO"
      },
      "source": [
        "def decompose(N, base) :\n",
        "    '''Fonction qui reçoit deux entiers, N et base, calcule et affiche la décomposition de N dans la base \"base\"\n",
        "    et retourne la liste liste_chiffres_nb_converti des chiffres de N écrit dans la base \"base\" \n",
        "    Elle fait appel à la fonction log_base(N,base)'''\n",
        "\n",
        "    k = log_base(N,base)-1  # N s'écrit avec k chiffres en base \"base\", de 0 \n",
        "                            # donnnant les puissances de \"base\" de k-1 à 0\n",
        "    p = base**k\n",
        "\n",
        "    r=N # reste obtenu successivement en enlevant le bon multiple\n",
        "        # de chaque puissance de 4, en décroissant\n",
        "    converti=[] # \"converti\" est une liste, commençant vide,\n",
        "                # à laquelle vont venir s'ajouter les chiffres\n",
        "                # successifs du nombre converti en base 4\n",
        "            \n",
        "    print (N, \" = \", end ='')\n",
        "    while r != 0 :\n",
        "        c = int(r/p)   # calcul du k-eme chiffre (en partant de la droite) en base \"base\"\n",
        "        r=r - c*p           # calcul du nouveau reste\n",
        "        print (\" + \",c,\" x \",base,\"^\",k, sep='',end ='')\n",
        "        converti = converti + [c] # on rallonge la liste des chiffres du nombre converti\n",
        "        p = p / base\n",
        "        k = k - 1\n",
        "    print(' ')\n",
        "    liste_chiffres_nb_converti = converti\n",
        "    print('Liste des chiffres : ', converti)\n",
        "    return liste_chiffres_nb_converti\n"
      ],
      "execution_count": 36,
      "outputs": []
    },
    {
      "cell_type": "code",
      "metadata": {
        "colab": {
          "base_uri": "https://localhost:8080/"
        },
        "id": "P7hPPtGNg5uR",
        "outputId": "e1c75fd7-952d-40d4-e965-2f08ed863def"
      },
      "source": [
        "liste_chiffres_nombre_converti = decompose(5.6875,2)\n",
        "liste_chiffres_nombre_converti"
      ],
      "execution_count": 37,
      "outputs": [
        {
          "output_type": "stream",
          "name": "stdout",
          "text": [
            "5.6875  =  + 1 x 2^2 + 0 x 2^1 + 1 x 2^0 + 1 x 2^-1 + 0 x 2^-2 + 1 x 2^-3 + 1 x 2^-4 \n",
            "Liste des chiffres :  [1, 0, 1, 1, 0, 1, 1]\n"
          ]
        },
        {
          "output_type": "execute_result",
          "data": {
            "text/plain": [
              "[1, 0, 1, 1, 0, 1, 1]"
            ]
          },
          "metadata": {},
          "execution_count": 37
        }
      ]
    },
    {
      "cell_type": "code",
      "metadata": {
        "id": "mw8cwo_fiBrZ"
      },
      "source": [
        "def ecrit_binaire(N) :\n",
        "    L = decompose(N, 2)\n",
        "    nb_chiffres_mantisse = log_base(N,2)\n",
        "    print(\"En binaire, \",str(N),\" s'écrit : (\" , end = \"\")\n",
        "    for c in L[:nb_chiffres_mantisse] :\n",
        "        print(c, end =\"\")\n",
        "    print('.', end = \"\")\n",
        "    for c in L[nb_chiffres_mantisse:] :\n",
        "        print(c, end =\"\")\n",
        "    print(')_2')\n"
      ],
      "execution_count": 38,
      "outputs": []
    },
    {
      "cell_type": "code",
      "metadata": {
        "colab": {
          "base_uri": "https://localhost:8080/"
        },
        "id": "JDKLSgBiknZL",
        "outputId": "11df30ed-f655-4f25-85e6-4c17e8a09948"
      },
      "source": [
        "ecrit_binaire(5.6875)"
      ],
      "execution_count": 39,
      "outputs": [
        {
          "output_type": "stream",
          "name": "stdout",
          "text": [
            "5.6875  =  + 1 x 2^2 + 0 x 2^1 + 1 x 2^0 + 1 x 2^-1 + 0 x 2^-2 + 1 x 2^-3 + 1 x 2^-4 \n",
            "Liste des chiffres :  [1, 0, 1, 1, 0, 1, 1]\n",
            "En binaire,  5.6875  s'écrit : (101.1011)_2\n"
          ]
        }
      ]
    },
    {
      "cell_type": "code",
      "metadata": {
        "id": "r3LIr3julFZJ"
      },
      "source": [
        ""
      ],
      "execution_count": 39,
      "outputs": []
    }
  ]
}