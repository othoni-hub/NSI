{
  "nbformat": 4,
  "nbformat_minor": 0,
  "metadata": {
    "colab": {
      "name": "NumérationShadok.ipynb",
      "provenance": [],
      "collapsed_sections": [],
      "authorship_tag": "ABX9TyNr0bhQqTkdYTUrOUZrNArd",
      "include_colab_link": true
    },
    "kernelspec": {
      "name": "python3",
      "display_name": "Python 3"
    },
    "language_info": {
      "name": "python"
    }
  },
  "cells": [
    {
      "cell_type": "markdown",
      "metadata": {
        "id": "view-in-github",
        "colab_type": "text"
      },
      "source": [
        "<a href=\"https://colab.research.google.com/github/othoni-hub/NSI/blob/main/Num%C3%A9rationShadok.ipynb\" target=\"_parent\"><img src=\"https://colab.research.google.com/assets/colab-badge.svg\" alt=\"Open In Colab\"/></a>"
      ]
    },
    {
      "cell_type": "markdown",
      "metadata": {
        "id": "9MaKp1us-QiM"
      },
      "source": [
        "# **NSI - Thème : Représentation des données : valeurs et types de base**\n",
        "\n",
        "## **Conversion numérique d'une base à une autre**\n",
        "\n",
        "<img src=\"https://drive.google.com/uc?id=12Wo3LubGGT4qOvYFAuLP4CyCuwjKNVuk\" width=\"230\" height=\"150\" align = \"right\"/>\n",
        "\n",
        "\n",
        "\n",
        "\n",
        "**O.Thöni - UCO**\n",
        "\n",
        "*document à l'usage exclusif des personnes concernées par la formation Master MEEF - NSI de l'UCO*\n",
        "\n"
      ]
    },
    {
      "cell_type": "code",
      "metadata": {
        "colab": {
          "base_uri": "https://localhost:8080/",
          "height": 339
        },
        "id": "H7JR49uWqhw4",
        "outputId": "c9ef0734-8fd4-4aab-9100-b1a6c05cff99"
      },
      "source": [
        "from IPython.display import HTML\n",
        "\n",
        "HTML('<iframe width=\"560\" height=\"315\" src=\"https://www.youtube.com/embed/lP9PaDs2xgQ\" frameborder=\"1\" allow=\"accelerometer; autoplay; clipboard-write; encrypted-media; gyroscope; picture-in-picture\" allowfullscreen></iframe>')"
      ],
      "execution_count": null,
      "outputs": [
        {
          "output_type": "execute_result",
          "data": {
            "text/html": [
              "<iframe width=\"560\" height=\"315\" src=\"https://www.youtube.com/embed/lP9PaDs2xgQ\" frameborder=\"1\" allow=\"accelerometer; autoplay; clipboard-write; encrypted-media; gyroscope; picture-in-picture\" allowfullscreen></iframe>"
            ],
            "text/plain": [
              "<IPython.core.display.HTML object>"
            ]
          },
          "metadata": {},
          "execution_count": 78
        }
      ]
    },
    {
      "cell_type": "markdown",
      "metadata": {
        "id": "QCkrYG4pr1ax"
      },
      "source": [
        "# Construction du programme"
      ]
    },
    {
      "cell_type": "markdown",
      "metadata": {
        "id": "Go-zaXYVsW9F"
      },
      "source": [
        "* **recherche du nombre de chiffres pour écrire N en base 4 :**\n",
        "\n",
        "**Remarque :** Ce nombre s'appelle $log_4 (N)$"
      ]
    },
    {
      "cell_type": "code",
      "metadata": {
        "id": "5VI9B1zts1Dp"
      },
      "source": [
        "def log_base(N,base) :\n",
        "    '''Cette fonction reçoit deux entiers N  et \"base\" et retourne l'entier nb_chiffre_base, \n",
        "    nombre de chiffres nécessaires à l'écriture de N en base \"base\", \n",
        "    c'est-à-dire la plus grande puissance de \"base\" que l'on peut faire rentrer dans N'''\n",
        "\n",
        "    k=0 # k compte les boucles\n",
        "    p=1 # p vaut base^k\n",
        "\n",
        "    while(p <= N):\n",
        "        k = k+1\n",
        "        p = p*base\n",
        "    \n",
        "    nb_chiffre_base=k\n",
        "    return nb_chiffre_base\n",
        "    "
      ],
      "execution_count": null,
      "outputs": []
    },
    {
      "cell_type": "code",
      "metadata": {
        "colab": {
          "base_uri": "https://localhost:8080/"
        },
        "id": "CA7NKdxLuQGm",
        "outputId": "ce66416c-e2bb-4973-e2ba-8b5f749ce8a0"
      },
      "source": [
        "log_base(16,4)"
      ],
      "execution_count": null,
      "outputs": [
        {
          "output_type": "execute_result",
          "data": {
            "text/plain": [
              "3"
            ]
          },
          "metadata": {},
          "execution_count": 8
        }
      ]
    },
    {
      "cell_type": "markdown",
      "metadata": {
        "id": "nKHcLvfiupLy"
      },
      "source": [
        "* **décomposition de N dans une base donnée**"
      ]
    },
    {
      "cell_type": "code",
      "metadata": {
        "id": "OL58vOxluvcO"
      },
      "source": [
        "def decompose(N, base) :\n",
        "    '''Fonction qui reçoit deux entiers, N et base, calcule et affiche la décomposition de N dans la base \"base\"\n",
        "    et retourne la liste liste_chiffres_nb_converti des chiffres de N écrit dans la base \"base\" \n",
        "    Elle fait appel à la fonction log_base(N,base)'''\n",
        "\n",
        "    k = log_base(N,base)-1  # N s'écrit avec k chiffres en base \"base\", de 0 \n",
        "                            # donnnant les puissances de \"base\" de k-1 à 0\n",
        "    p = base**k\n",
        "\n",
        "    r=N # reste obtenu successivement en enlevant le bon multiple\n",
        "        # de chaque puissance de 4, en décroissant\n",
        "    converti=[] # \"converti\" est une liste, commençant vide,\n",
        "                # à laquelle vont venir s'ajouter les chiffres\n",
        "                # successifs du nombre converti en base 4\n",
        "            \n",
        "    print (N, \" = \", end ='')\n",
        "    while k >= 0 :\n",
        "        c = int(r//p)   # calcul du k-eme chiffre (en partant de la droite) en base \"base\"\n",
        "        r=r%p           # calcul du nouveau reste\n",
        "        print (\" + \",c,\" x \",base,\"^\",k, sep='',end ='')\n",
        "        converti = converti + [c] # on rallonge la liste des chiffres du nombre converti\n",
        "        p = p // base\n",
        "        k = k - 1\n",
        "    print(' ')\n",
        "    liste_chiffres_nb_converti = converti\n",
        "    print('Liste des chiffres : ', converti)\n",
        "    return liste_chiffres_nb_converti\n"
      ],
      "execution_count": null,
      "outputs": []
    },
    {
      "cell_type": "code",
      "metadata": {
        "colab": {
          "base_uri": "https://localhost:8080/"
        },
        "id": "k1o40V5Bw5JD",
        "outputId": "d3fb8747-81cc-4177-b510-b65db3a47ba4"
      },
      "source": [
        "decompose(16,4)"
      ],
      "execution_count": null,
      "outputs": [
        {
          "output_type": "stream",
          "name": "stdout",
          "text": [
            "16  =  + 1 x 4^2 + 0 x 4^1 + 0 x 4^0 \n",
            "Liste des chiffres :  [1, 0, 0]\n"
          ]
        },
        {
          "output_type": "execute_result",
          "data": {
            "text/plain": [
              "[1, 0, 0]"
            ]
          },
          "metadata": {},
          "execution_count": 10
        }
      ]
    },
    {
      "cell_type": "markdown",
      "metadata": {
        "id": "PGFSQl42yi_O"
      },
      "source": [
        "* **Traduction en Shadok d'un entier N donné**"
      ]
    },
    {
      "cell_type": "code",
      "metadata": {
        "id": "PTr2igyHyUos"
      },
      "source": [
        "def traduction_en_Shadok(N) :\n",
        "    '''Cette fonction reçoit un entier N et le convertit en langage Shadok\n",
        "    Elle fait appel à la fonction liste_chiffres_nb_converti'''\n",
        "\n",
        "    convertisseur_Shadok = {0 :\"Ga \", 1 :\"Bu \", 2 :\"Zo \", 3 :\"Meu \"}\n",
        "    \n",
        "    liste_chiffres_nb_converti = decompose(N,4)\n",
        "    nombre_Shadok = [convertisseur_Shadok[cle] for cle in liste_chiffres_nb_converti] \n",
        "    # Qu'est-ce que c'est bien les dictionnaires !\n",
        "\n",
        "    print(N, \"en Shadok, se dit :\", end = \" \")\n",
        "    \n",
        "    for chiffre in nombre_Shadok :\n",
        "        print(chiffre, end = \" \")\n",
        "    print()\n"
      ],
      "execution_count": null,
      "outputs": []
    },
    {
      "cell_type": "code",
      "metadata": {
        "colab": {
          "base_uri": "https://localhost:8080/"
        },
        "id": "WHu4gWmp0Pdz",
        "outputId": "7f93734d-0d15-494c-d866-cd892cb2a139"
      },
      "source": [
        "traduction_en_Shadok(16)"
      ],
      "execution_count": null,
      "outputs": [
        {
          "output_type": "stream",
          "name": "stdout",
          "text": [
            "16  =  + 1 x 4^2 + 0 x 4^1 + 0 x 4^0 \n",
            "Liste des chiffres :  [1, 0, 0]\n",
            "16 en Shadok, se dit : Bu  Ga  Ga  \n"
          ]
        }
      ]
    },
    {
      "cell_type": "code",
      "metadata": {
        "colab": {
          "base_uri": "https://localhost:8080/"
        },
        "id": "XH0YIqq75qq1",
        "outputId": "be49d2d5-bfb1-46d2-c692-22287ee273c9"
      },
      "source": [
        "traduction_en_Shadok(12345)"
      ],
      "execution_count": null,
      "outputs": [
        {
          "output_type": "stream",
          "name": "stdout",
          "text": [
            "12345  =  + 3 x 4^6 + 0 x 4^5 + 0 x 4^4 + 0 x 4^3 + 3 x 4^2 + 2 x 4^1 + 1 x 4^0 \n",
            "Liste des chiffres :  [3, 0, 0, 0, 3, 2, 1]\n",
            "12345 en Shadok, se dit : Meu  Ga  Ga  Ga  Meu  Zo  Bu  \n"
          ]
        }
      ]
    },
    {
      "cell_type": "markdown",
      "metadata": {
        "id": "M0C8II9I54kG"
      },
      "source": [
        "* **Passage décimal --> hexadécimal**\n",
        "\n",
        "Les fonctions ci-dessus étant faites pour être transposables, il suffit de donner le nouveau dictionnaire de conversion décimal --> hexadécimal."
      ]
    },
    {
      "cell_type": "code",
      "metadata": {
        "id": "U6mfn2Ob5qaK"
      },
      "source": [
        "def traduction_en_hexa(N) :\n",
        "    '''Cette fonction reçoit un entier N et le convertit en hexadécimal\n",
        "    Elle fait appel à la fonction liste_chiffres_nb_converti'''\n",
        "\n",
        "    convertisseur_hexa = {0 :\"0\", 1 :\"1\", 2 :\"2\", 3 :\"3\", 4 :\"4\", 5 :\"5\", 6 :\"6\", 7 :\"7\", 8 :\"8\", 9 :\"9\", 10 :\"A\", 11 :\"B\", 12 :\"C\", 13 :\"D\", 14 :\"E\", 15 :\"F\"}\n",
        "    \n",
        "    liste_chiffres_nb_converti = decompose(N,16)\n",
        "    nombre_hexa = [convertisseur_hexa[cle] for cle in liste_chiffres_nb_converti] \n",
        "    # Qu'est-ce que c'est bien les dictionnaires !\n",
        "\n",
        "    print(N, \"en hexédécimal, s'écrit : \", end = \" \")\n",
        "    \n",
        "    for chiffre in nombre_hexa :\n",
        "        print(chiffre, end = \"\")\n",
        "    print()"
      ],
      "execution_count": null,
      "outputs": []
    },
    {
      "cell_type": "code",
      "metadata": {
        "colab": {
          "base_uri": "https://localhost:8080/"
        },
        "id": "VcUzp1xE7KV2",
        "outputId": "043be206-0c30-4db4-d1e8-ef765df71d85"
      },
      "source": [
        "traduction_en_hexa(17)"
      ],
      "execution_count": null,
      "outputs": [
        {
          "output_type": "stream",
          "name": "stdout",
          "text": [
            "17  =  + 1 x 16^1 + 1 x 16^0 \n",
            "Liste des chiffres :  [1, 1]\n",
            "17 en hexédécimal, s'écrit :  11\n"
          ]
        }
      ]
    },
    {
      "cell_type": "code",
      "metadata": {
        "colab": {
          "base_uri": "https://localhost:8080/"
        },
        "id": "ourAdkFu7beq",
        "outputId": "645c4f7a-b58f-4fb6-994f-74b482bdea4d"
      },
      "source": [
        "traduction_en_hexa(543210)"
      ],
      "execution_count": null,
      "outputs": [
        {
          "output_type": "stream",
          "name": "stdout",
          "text": [
            "543210  =  + 8 x 16^4 + 4 x 16^3 + 9 x 16^2 + 14 x 16^1 + 10 x 16^0 \n",
            "Liste des chiffres :  [8, 4, 9, 14, 10]\n",
            "543210 en hexédécimal, s'écrit :  849EA\n"
          ]
        }
      ]
    },
    {
      "cell_type": "markdown",
      "metadata": {
        "id": "95H8_38T7zzM"
      },
      "source": [
        "* **Le bibi-binaire est alors un jeu d'enfant !**\n",
        "\n",
        "Boby Lapointe, outre ses grands talents de chanteur et de jongleur des mots, avait de solides connaissances en mathématiques. \n",
        "Laissez-vous en ~~compter~~ conter par Grisebouille, de Gee..."
      ]
    },
    {
      "cell_type": "code",
      "metadata": {
        "colab": {
          "base_uri": "https://localhost:8080/",
          "height": 339
        },
        "id": "dOGSbFYA8k0T",
        "outputId": "20601a8d-c867-48db-d3a9-360080c67309"
      },
      "source": [
        "from IPython.display import HTML\n",
        "\n",
        "HTML('<iframe width=\"800\" height=\"315\" src=\"https://grisebouille.net/hexadecimal-et-boby-lapointe/\"></iframe>')"
      ],
      "execution_count": null,
      "outputs": [
        {
          "output_type": "execute_result",
          "data": {
            "text/html": [
              "<iframe width=\"800\" height=\"315\" src=\"https://grisebouille.net/hexadecimal-et-boby-lapointe/\"></iframe>"
            ],
            "text/plain": [
              "<IPython.core.display.HTML object>"
            ]
          },
          "metadata": {},
          "execution_count": 73
        }
      ]
    },
    {
      "cell_type": "code",
      "metadata": {
        "id": "67LbKULx77K2"
      },
      "source": [
        "def traduction_en_bibibinaire(N) :\n",
        "    '''Cette fonction reçoit un entier N et le convertit en bibibinaire\n",
        "    Elle fait appel à la fonction liste_chiffres_nb_converti'''\n",
        "\n",
        "    convertisseur_bibi = {0 :\"Ho\", 1 :\"Ha\", 2 :\"He\", 3 :\"Hi\", 4 :\"Bo\", 5 :\"Ba\", 6 :\"Be\", 7 :\"Bi\", 8 :\"Ko\", 9 :\"Ka\", 10 :\"Ke\", 11 :\"Ki\", 12 :\"Do\", 13 :\"Da\", 14 :\"De\", 15 :\"Di\"}\n",
        "    \n",
        "    liste_chiffres_nb_converti = decompose(N,16)\n",
        "    nombre_bibi = [convertisseur_bibi[cle] for cle in liste_chiffres_nb_converti] \n",
        "    # Qu'est-ce que c'est bien les dictionnaires !\n",
        "\n",
        "    print(N, \"en bibi-binaire, se dit : \", end = \" \")\n",
        "    \n",
        "    for chiffre in nombre_bibi :\n",
        "        print(chiffre, end = \"\")\n",
        "    print()"
      ],
      "execution_count": null,
      "outputs": []
    },
    {
      "cell_type": "code",
      "metadata": {
        "colab": {
          "base_uri": "https://localhost:8080/"
        },
        "id": "SUbK29Vq9iU-",
        "outputId": "2aaf60a4-1759-44a5-e5f0-ade0dd7471d6"
      },
      "source": [
        "traduction_en_bibibinaire(17)"
      ],
      "execution_count": null,
      "outputs": [
        {
          "output_type": "stream",
          "name": "stdout",
          "text": [
            "17  =  + 1 x 16^1 + 1 x 16^0 \n",
            "Liste des chiffres :  [1, 1]\n",
            "17 en bibi-binaire, se dit :  HaHa\n"
          ]
        }
      ]
    },
    {
      "cell_type": "code",
      "metadata": {
        "colab": {
          "base_uri": "https://localhost:8080/"
        },
        "id": "hkKCTG_X9nq5",
        "outputId": "55f5509e-32fa-4e67-ac1f-913d9e11f0c2"
      },
      "source": [
        "traduction_en_bibibinaire(6543210)"
      ],
      "execution_count": null,
      "outputs": [
        {
          "output_type": "stream",
          "name": "stdout",
          "text": [
            "6543210  =  + 6 x 16^5 + 3 x 16^4 + 13 x 16^3 + 7 x 16^2 + 6 x 16^1 + 10 x 16^0 \n",
            "Liste des chiffres :  [6, 3, 13, 7, 6, 10]\n",
            "6543210 en bibi-binaire, se dit :  BeHiDaBiBeKe\n"
          ]
        }
      ]
    },
    {
      "cell_type": "markdown",
      "metadata": {
        "id": "YFgkSKDcrvWq"
      },
      "source": [
        "# Le programme complet de conversion en Shadok pour IDE"
      ]
    },
    {
      "cell_type": "code",
      "metadata": {
        "colab": {
          "base_uri": "https://localhost:8080/"
        },
        "id": "wgZ7QVGIpxSK",
        "outputId": "e2d7ea74-f095-4a3c-90c1-9bb34e4cc1de"
      },
      "source": [
        "##########\n",
        "# ShadoK #\n",
        "##########\n",
        "\n",
        "# Ce programme convertit en numération shadok un nombre N donné en base 10\n",
        "print(\"Ce programme convertit en numération Shadok un nombre N donné en base 10\")\n",
        "\n",
        "N=int(input(\"Entrez un entier N : \"))\n",
        "\n",
        "# --------------------------------------------------------------\n",
        "# recherche de la plus grande puissance de 4 que peut contenir N\n",
        "# --------------------------------------------------------------\n",
        "k=0 # k compte les boucles\n",
        "p=1 # p vaut 4^k\n",
        "\n",
        "while(p<=N):\n",
        "    k+=1\n",
        "    p*=4\n",
        "    \n",
        "kmax=k-1\n",
        "\n",
        "\n",
        "# ----------------------------------------------------\n",
        "# décomposition de N en base 4, et écriture à la volée\n",
        "# ----------------------------------------------------\n",
        "r=N # reste obtenu successivement en enlevant le bon multiple\n",
        "    # de chaque puissance de 4, en décroissant\n",
        "converti=[] # \"converti\" est une liste, commençant vide,\n",
        "            # à laquelle vont venir s'ajouter les chiffres\n",
        "            # successifs du nombre converti en base 4\n",
        "            \n",
        "print (N, \" = \", end ='')\n",
        "while (k!=0) :\n",
        "    k-=1\n",
        "    p/=4\n",
        "    c=int(r//p) # calcul du k-eme chiffre (en partant de la droite) en base 4\n",
        "    r=r%p # calcul du nouveau reste\n",
        "    print (\" + \",c,\" x 4^\",k, sep='',end ='')\n",
        "    converti=converti+[c] # on rallonge la liste des chiffres du nombre converti\n",
        "    \n",
        "    \n",
        "\n",
        "# ------------------------------\n",
        "# écriture du nombre N en base 4\n",
        "# ------------------------------\n",
        "print()\n",
        "print(N, \" converti en base 4, devient : \",end='')\n",
        "for k in range(kmax+1) :\n",
        "    print(converti[k], end='')\n",
        "print()\n",
        "\n",
        "# essayer aussi : print(converti[0:kmax])\n",
        "\n",
        "# ------------------------------\n",
        "# traduction du nombre en Shadok\n",
        "# ------------------------------\n",
        "print(\"En Shadok, le nombre \", N, \" se lit : \", end ='')\n",
        "for k in range(kmax+1) :\n",
        "    if converti[k]==0 :\n",
        "        print(\"Ga \",end='')\n",
        "    elif converti[k]==1 :\n",
        "        print (\"Bu \", end ='')\n",
        "    elif converti[k]==2 :\n",
        "        print (\"Zo \", end = '')\n",
        "    else :\n",
        "        print(\"Meu \",end = '')\n",
        "\n",
        "print()\n",
        "print(\"Fini.\")"
      ],
      "execution_count": null,
      "outputs": [
        {
          "output_type": "stream",
          "name": "stdout",
          "text": [
            "Ce programme convertit en numération Shadok un nombre N donné en base 10\n",
            "Entrez un entier N : 19\n",
            "19  =  + 1 x 4^2 + 0 x 4^1 + 3 x 4^0\n",
            "19  converti en base 4, devient : 103\n",
            "En Shadok, le nombre  19  se lit : Bu Ga Meu \n",
            "Fini.\n"
          ]
        }
      ]
    },
    {
      "cell_type": "code",
      "metadata": {
        "id": "v8nTlECsrmzr"
      },
      "source": [
        ""
      ],
      "execution_count": null,
      "outputs": []
    }
  ]
}