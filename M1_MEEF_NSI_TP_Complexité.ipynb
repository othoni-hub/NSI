{
  "nbformat": 4,
  "nbformat_minor": 0,
  "metadata": {
    "colab": {
      "name": "M1 MEEF-NSI : TP_Complexité.ipynb",
      "provenance": [],
      "collapsed_sections": [
        "y4-um30xOhNZ",
        "06w2sbrVOhNe"
      ],
      "authorship_tag": "ABX9TyP7KGck5Ljb97IG2SXyg64/",
      "include_colab_link": true
    },
    "kernelspec": {
      "name": "python3",
      "display_name": "Python 3"
    }
  },
  "cells": [
    {
      "cell_type": "markdown",
      "metadata": {
        "id": "view-in-github",
        "colab_type": "text"
      },
      "source": [
        "<a href=\"https://colab.research.google.com/github/othoni-hub/NSI/blob/main/M1_MEEF_NSI_TP_Complexit%C3%A9.ipynb\" target=\"_parent\"><img src=\"https://colab.research.google.com/assets/colab-badge.svg\" alt=\"Open In Colab\"/></a>"
      ]
    },
    {
      "cell_type": "markdown",
      "metadata": {
        "id": "gEKG3lJzOk0F"
      },
      "source": [
        "# **UCO Professeurs Stagiaires NSI**\n",
        "\n",
        "**TP n°1 - Correction : Différencier autour de la complexité**\n",
        "\n",
        "**Olivier THÖNI** - UCO-IFUCOME (groupes \"Mathématiques\" et \"NSI\")\n",
        "\n",
        "document sous licence \"Creative Commons\" : By - NC - SA\n",
        "\n",
        "\n",
        "\n",
        "---\n",
        "\n"
      ]
    },
    {
      "cell_type": "markdown",
      "metadata": {
        "id": "bvhaMqnrPUNN"
      },
      "source": [
        "Il s'agit de concevoir une séance de Terminale spé-NSI sur le thème de la **complexité**, présentant des éléments de différenciation.\n",
        "\n",
        "<img src=\"https://www.industrie-techno.com/mediatheque/6/0/0/000043006_600x400_c.png\" width=\"300\" height=\"200\" />\n",
        "\n",
        "Le thème de la **complexité** est éparpillé dans de \n",
        "nombreux paragraphes de la partie \"**Algorithmique**\"des programmes officiels de la spécialité NSI de Première et de Terminale :\n",
        "\n",
        "* [programme de Première](https://cache.media.eduscol.education.fr/file/SP1-MEN-22-1-2019/26/8/spe633_annexe_1063268.pdf) \n",
        "\n",
        "* [programme de Terminale](https://cache.media.eduscol.education.fr/file/SPE8_MENJ_25_7_2019/93/3/spe247_annexe_1158933.pdf)\n",
        "\n",
        "Ici, nous revenons sur des algorithmes potentiellement déjà rencontrés, dans lesquels nous placerons des \"instruments de mesure\" et de représentation graphique de l'efficacité temporelle, selon la taille des données d'entrée.\n",
        "\n",
        "Puis, nous évoquerons la notion d'**ordre de grandeur** de cette complexité, en comparant les différents ordres, en donnant des astuces de calcul, et une méthodologie de détermination dans les algorithmes.\n",
        "\n",
        "\n",
        "\n",
        "---\n",
        "\n"
      ]
    },
    {
      "cell_type": "markdown",
      "metadata": {
        "id": "6MN3PR9wVYPq"
      },
      "source": [
        "Télécharger et compléter le présent NoteBook ici :https://frama.link/OT-Complexite \n",
        "\n",
        "\n",
        "\n",
        "\n",
        "**PARTIE I**\n",
        "\n",
        "Il existe des dalles, fabriquées dans un matériau quasi-impossible à découper. \n",
        "\n",
        "On dispose d'un certain nombre de dalles de 1m x 1m, on cherche à déterminer les dimensions de toutes les surfaces rectangulaires que l'on peut recouvrir avec la totalité de ces dalles.\n",
        "\n",
        "\n",
        "\n",
        "<img src=\"https://www.carrelagesmoinscher.fr/catalog/images/collections/AMB-Materia-taupe.jpg\" width=\"400\" height=\"220\" />\n",
        "\n",
        "\n",
        "\n",
        "1.   Indiquer les dimensions de toutes les surfaces rectangulaires possibles pour les nombres N de dalles suivants :\n",
        "*   N = 100 \n",
        "*   N = 360 \n",
        "*   N = 1001 \n",
        "*   N = 1200 \n",
        "*   N = 1681 \n",
        "*   N = 19600 \n",
        "*   N = 50000\n",
        "*   N = 531441 \n",
        "*   N = 3628800\n",
        "\n",
        "\n",
        "On utilisera trois algorithmes, commencer par tester brutalement tous les entiers jusqu'à N, puis chercher à améliorer le nombre de passage dans la boucle, puis l'améliorer encore en observant le cas suivant : tracer à la main les rectangles correspondant à la situation où l'on dispose de 36 dalles... Une idée ?\n",
        "\n",
        "\n",
        "\n",
        "\n",
        "\n",
        "---\n",
        "\n",
        "\n",
        "\n",
        "\n",
        "\n",
        "\n",
        "\n"
      ]
    },
    {
      "cell_type": "markdown",
      "metadata": {
        "id": "eLnRjkyWYsy6"
      },
      "source": [
        "2.  **Évaluation du temps de calcul** \n",
        "\n",
        "<img src=\"https://ak.picdn.net/shutterstock/videos/32278330/thumb/1.jpg\" width=\"400\" height=\"220\" />\n",
        "\n",
        "* Compter le nombre de divisions dans chaque algorithme\n",
        "* Faire afficher les réponses possibles au fur et à mesure de leur apparition et mettre un compteur du nombre de ces affichages.\n",
        "\n",
        "Lequel de ces deux moyens vous semble-t-il le plus pertinent pour mesurer le temps d'exécution du programme ?\n",
        "Retirer l'autre et ajouter un \"timer\". \n",
        "\n",
        "***Défi 1 :***\n",
        "*Stocker les résultats N / temps d'exécution dans un fichier csv*\n",
        "\n",
        "\n",
        "---\n",
        "\n"
      ]
    },
    {
      "cell_type": "code",
      "metadata": {
        "id": "bI8yc2KSBq6R"
      },
      "source": [
        "def diviseurs1(N) :\n",
        "    c = 0\n",
        "    nb_diviseurs = 0\n",
        "\n",
        "    for k in range(1,N+1) :\n",
        "        c = c+1\n",
        "        if N % k == 0 :\n",
        "            #print(k ,'x',N//k)\n",
        "            nb_diviseurs = nb_diviseurs + 1\n",
        "    \n",
        "    return nb_diviseurs, c "
      ],
      "execution_count": null,
      "outputs": []
    },
    {
      "cell_type": "code",
      "metadata": {
        "id": "4Hbbe2xuDSyC",
        "colab": {
          "base_uri": "https://localhost:8080/",
          "height": 34
        },
        "outputId": "b00dde1d-c9c7-4e67-cab4-a712531f7c78"
      },
      "source": [
        "N = 16\n",
        "nb_diviseurs, c = diviseurs1(N)\n",
        "print(N, \" possède :\", nb_diviseurs, \" diviseurs\")"
      ],
      "execution_count": null,
      "outputs": [
        {
          "output_type": "stream",
          "text": [
            "16  possède : 10  diviseurs\n"
          ],
          "name": "stdout"
        }
      ]
    },
    {
      "cell_type": "markdown",
      "metadata": {
        "id": "xdinwhhOUi-7"
      },
      "source": [
        "On remarque que la 2<sup>ème</sup> moitié de la liste est redondante, on se dit alors qu'on peut arrêter à la moitié..."
      ]
    },
    {
      "cell_type": "code",
      "metadata": {
        "id": "imCDmhCeDvcz"
      },
      "source": [
        "def diviseurs2(N) :\n",
        "    c = 0\n",
        "    nb_diviseurs = 0\n",
        "\n",
        "    for k in range(1,N//2) :\n",
        "        c = c + 1\n",
        "        if N % k == 0 :\n",
        "            #print(k ,'x',N//k)\n",
        "            nb_diviseurs = nb_diviseurs + 2\n",
        "             \n",
        "    if k*k == N :\n",
        "        nb_diviseurs = nb_diviseurs - 1\n",
        "    return nb_diviseurs, c  "
      ],
      "execution_count": null,
      "outputs": []
    },
    {
      "cell_type": "code",
      "metadata": {
        "id": "0J2BKp_xD014",
        "colab": {
          "base_uri": "https://localhost:8080/",
          "height": 34
        },
        "outputId": "7cf9a686-3921-4bc0-fc22-fb6c19fac124"
      },
      "source": [
        "N = 126\n",
        "nb_diviseurs, c = diviseurs2(N)\n",
        "print(N, \" possède :\", nb_diviseurs, \" diviseurs\")"
      ],
      "execution_count": null,
      "outputs": [
        {
          "output_type": "stream",
          "text": [
            "126  possède : 20  diviseurs\n"
          ],
          "name": "stdout"
        }
      ]
    },
    {
      "cell_type": "markdown",
      "metadata": {
        "id": "n9V1zR5VDEHG"
      },
      "source": [
        "Mais on peut encore faire mieux : si on a un \"nombre carré\", c'est-à-dire que, parmi les dispositions possibles, l'une est en carré), par exemple 36, une fois qu'on aura atteint le découpage 6x6, on repartira dans l'autre sens, en échangeant les largeurs et les longueurs que l'on a obtenues avant.\n",
        "\n",
        "Ainsi, on optimise l'algorithme en s'arrêtant à la \"racine carré\" (notion vue en 4<sup>ème</sup>) du nombre de dalles (même si ce n'est pas un entier, ce nombre existe, il suffit alors de s'arrêter à l'entier juste avant)"
      ]
    },
    {
      "cell_type": "code",
      "metadata": {
        "id": "r9itFzzQEE3K"
      },
      "source": [
        "from math import sqrt\n",
        "\n",
        "def diviseurs3(N) :\n",
        "    print('Surface possibles avec ',N,' dalles : ')\n",
        "    c = 0\n",
        "    nb_diviseurs = 0\n",
        "    for k in range(1,int(sqrt(N)+1)) :\n",
        "        c = c + 1\n",
        "        if N % k == 0 :\n",
        "            print(k ,'x',N//k)\n",
        "            nb_diviseurs = nb_diviseurs + 2\n",
        "    if k*k == N :\n",
        "        nb_diviseurs = nb_diviseurs - 1\n",
        "    return nb_diviseurs, c "
      ],
      "execution_count": null,
      "outputs": []
    },
    {
      "cell_type": "code",
      "metadata": {
        "id": "paqzl5PSEQRm",
        "colab": {
          "base_uri": "https://localhost:8080/",
          "height": 140
        },
        "outputId": "af9762c5-5cc0-40f3-de17-5babddab35fa"
      },
      "source": [
        "N = 36\n",
        "nb_diviseurs, c = diviseurs3(N)\n",
        "print(N, \" possède :\", nb_diviseurs, \" diviseurs\")"
      ],
      "execution_count": null,
      "outputs": [
        {
          "output_type": "stream",
          "text": [
            "Surface possibles avec  36  dalles : \n",
            "1 x 36\n",
            "2 x 18\n",
            "3 x 12\n",
            "4 x 9\n",
            "6 x 6\n",
            "36  possède : 9  diviseurs\n"
          ],
          "name": "stdout"
        }
      ]
    },
    {
      "cell_type": "code",
      "metadata": {
        "id": "cdmGlTeEMKS_",
        "colab": {
          "base_uri": "https://localhost:8080/",
          "height": 87
        },
        "outputId": "15d3984f-56ed-4a77-c4f3-e804aecf1a70"
      },
      "source": [
        "N = 1401\n",
        "nb_diviseurs, c = diviseurs3(N)\n",
        "print(N, \" possède :\", nb_diviseurs, \" diviseurs\")"
      ],
      "execution_count": null,
      "outputs": [
        {
          "output_type": "stream",
          "text": [
            "Surface possibles avec  1401  dalles : \n",
            "1 x 1401\n",
            "3 x 467\n",
            "1401  possède : 4  diviseurs\n"
          ],
          "name": "stdout"
        }
      ]
    },
    {
      "cell_type": "markdown",
      "metadata": {
        "id": "bWgVzzvVL2Du"
      },
      "source": [
        "**Pertinence de nos compteurs :**\n",
        "\n",
        "Le compteur de \"print()\" n'est pas pertinent, car il n'est incrémenté que lorsque l'on a rencontré un diviseur.\n",
        "\n",
        "Or, le nombre de diviseurs de N n'est pas lié à la taille de N : 36 a 9 diviseurs, tandis que 1401 n'en a que 4.\n",
        "\n",
        "Il suffit donc de récupérer le nombre de passages dans la boucle (inutile même de mettre un compteur...)"
      ]
    },
    {
      "cell_type": "markdown",
      "metadata": {
        "id": "xvqSFnVMZNck"
      },
      "source": [
        "3. **Graphiques**\n",
        "\n",
        "Effectuer des relevés des nombres de divisions selon les valeurs de N, et tracer les graphiques...\n",
        "\n",
        "\n",
        "*   à la main\n",
        "*   avec Python\n",
        "*   dans le tableur (Calc ou GeoGebra)\n",
        "\n",
        "Dans le tableur, faire établir diverses courbes de tendance, pour déterminer laquelle s'adapte le mieux à vos relevés.\n",
        "\n",
        "\n",
        "<img src=\"https://edu.ge.ch/site/utilisation-logiciel/wp-content/uploads/sites/51/2019/01/Graphxystep8.jpg\" width=\"200\" height=\"300\" />\n",
        "\n",
        "\n",
        "---\n"
      ]
    },
    {
      "cell_type": "code",
      "metadata": {
        "id": "USFDl9ElPZyH"
      },
      "source": [
        "liste_N = [100,360,1001,1200,1681,19600,50000, 531441, 3628800]\n"
      ],
      "execution_count": null,
      "outputs": []
    },
    {
      "cell_type": "code",
      "metadata": {
        "id": "tgAeQyzvYH-e",
        "colab": {
          "base_uri": "https://localhost:8080/",
          "height": 34
        },
        "outputId": "61f30d47-8aff-4328-f62c-a83bbbe4c56e"
      },
      "source": [
        "liste_temps1 = []\n",
        "for N in liste_N :\n",
        "    nb_diviseurs,c = diviseurs1(N)\n",
        "    liste_temps1.append(c)\n",
        "\n",
        "liste_temps1"
      ],
      "execution_count": null,
      "outputs": [
        {
          "output_type": "execute_result",
          "data": {
            "text/plain": [
              "[100, 360, 1001, 1200, 1681, 19600, 50000, 531441, 3628800]"
            ]
          },
          "metadata": {
            "tags": []
          },
          "execution_count": 9
        }
      ]
    },
    {
      "cell_type": "code",
      "metadata": {
        "id": "fKldWe6WYK7d",
        "colab": {
          "base_uri": "https://localhost:8080/",
          "height": 34
        },
        "outputId": "809c13f8-54b7-480f-98b8-07fb6fc7c6fd"
      },
      "source": [
        "liste_temps2 = []\n",
        "for N in liste_N :\n",
        "    nb_diviseurs,c = diviseurs2(N)\n",
        "    liste_temps2.append(c)\n",
        "\n",
        "liste_temps2"
      ],
      "execution_count": null,
      "outputs": [
        {
          "output_type": "execute_result",
          "data": {
            "text/plain": [
              "[49, 179, 499, 599, 839, 9799, 24999, 265719, 1814399]"
            ]
          },
          "metadata": {
            "tags": []
          },
          "execution_count": 10
        }
      ]
    },
    {
      "cell_type": "code",
      "metadata": {
        "id": "9ltko2EIYRgx",
        "colab": {
          "base_uri": "https://localhost:8080/",
          "height": 1000
        },
        "outputId": "608abc97-c22a-42fa-856f-91bd77fb2a9c"
      },
      "source": [
        "liste_temps3 = []\n",
        "for N in liste_N :\n",
        "    nb_diviseurs,c = diviseurs3(N)\n",
        "    liste_temps3.append(c)\n",
        "\n",
        "liste_temps3"
      ],
      "execution_count": null,
      "outputs": [
        {
          "output_type": "stream",
          "text": [
            "Surface possibles avec  100  dalles : \n",
            "1 x 100\n",
            "2 x 50\n",
            "4 x 25\n",
            "5 x 20\n",
            "10 x 10\n",
            "Surface possibles avec  360  dalles : \n",
            "1 x 360\n",
            "2 x 180\n",
            "3 x 120\n",
            "4 x 90\n",
            "5 x 72\n",
            "6 x 60\n",
            "8 x 45\n",
            "9 x 40\n",
            "10 x 36\n",
            "12 x 30\n",
            "15 x 24\n",
            "18 x 20\n",
            "Surface possibles avec  1001  dalles : \n",
            "1 x 1001\n",
            "7 x 143\n",
            "11 x 91\n",
            "13 x 77\n",
            "Surface possibles avec  1200  dalles : \n",
            "1 x 1200\n",
            "2 x 600\n",
            "3 x 400\n",
            "4 x 300\n",
            "5 x 240\n",
            "6 x 200\n",
            "8 x 150\n",
            "10 x 120\n",
            "12 x 100\n",
            "15 x 80\n",
            "16 x 75\n",
            "20 x 60\n",
            "24 x 50\n",
            "25 x 48\n",
            "30 x 40\n",
            "Surface possibles avec  1681  dalles : \n",
            "1 x 1681\n",
            "41 x 41\n",
            "Surface possibles avec  19600  dalles : \n",
            "1 x 19600\n",
            "2 x 9800\n",
            "4 x 4900\n",
            "5 x 3920\n",
            "7 x 2800\n",
            "8 x 2450\n",
            "10 x 1960\n",
            "14 x 1400\n",
            "16 x 1225\n",
            "20 x 980\n",
            "25 x 784\n",
            "28 x 700\n",
            "35 x 560\n",
            "40 x 490\n",
            "49 x 400\n",
            "50 x 392\n",
            "56 x 350\n",
            "70 x 280\n",
            "80 x 245\n",
            "98 x 200\n",
            "100 x 196\n",
            "112 x 175\n",
            "140 x 140\n",
            "Surface possibles avec  50000  dalles : \n",
            "1 x 50000\n",
            "2 x 25000\n",
            "4 x 12500\n",
            "5 x 10000\n",
            "8 x 6250\n",
            "10 x 5000\n",
            "16 x 3125\n",
            "20 x 2500\n",
            "25 x 2000\n",
            "40 x 1250\n",
            "50 x 1000\n",
            "80 x 625\n",
            "100 x 500\n",
            "125 x 400\n",
            "200 x 250\n",
            "Surface possibles avec  531441  dalles : \n",
            "1 x 531441\n",
            "3 x 177147\n",
            "9 x 59049\n",
            "27 x 19683\n",
            "81 x 6561\n",
            "243 x 2187\n",
            "729 x 729\n",
            "Surface possibles avec  3628800  dalles : \n",
            "1 x 3628800\n",
            "2 x 1814400\n",
            "3 x 1209600\n",
            "4 x 907200\n",
            "5 x 725760\n",
            "6 x 604800\n",
            "7 x 518400\n",
            "8 x 453600\n",
            "9 x 403200\n",
            "10 x 362880\n",
            "12 x 302400\n",
            "14 x 259200\n",
            "15 x 241920\n",
            "16 x 226800\n",
            "18 x 201600\n",
            "20 x 181440\n",
            "21 x 172800\n",
            "24 x 151200\n",
            "25 x 145152\n",
            "27 x 134400\n",
            "28 x 129600\n",
            "30 x 120960\n",
            "32 x 113400\n",
            "35 x 103680\n",
            "36 x 100800\n",
            "40 x 90720\n",
            "42 x 86400\n",
            "45 x 80640\n",
            "48 x 75600\n",
            "50 x 72576\n",
            "54 x 67200\n",
            "56 x 64800\n",
            "60 x 60480\n",
            "63 x 57600\n",
            "64 x 56700\n",
            "70 x 51840\n",
            "72 x 50400\n",
            "75 x 48384\n",
            "80 x 45360\n",
            "81 x 44800\n",
            "84 x 43200\n",
            "90 x 40320\n",
            "96 x 37800\n",
            "100 x 36288\n",
            "105 x 34560\n",
            "108 x 33600\n",
            "112 x 32400\n",
            "120 x 30240\n",
            "126 x 28800\n",
            "128 x 28350\n",
            "135 x 26880\n",
            "140 x 25920\n",
            "144 x 25200\n",
            "150 x 24192\n",
            "160 x 22680\n",
            "162 x 22400\n",
            "168 x 21600\n",
            "175 x 20736\n",
            "180 x 20160\n",
            "189 x 19200\n",
            "192 x 18900\n",
            "200 x 18144\n",
            "210 x 17280\n",
            "216 x 16800\n",
            "224 x 16200\n",
            "225 x 16128\n",
            "240 x 15120\n",
            "252 x 14400\n",
            "256 x 14175\n",
            "270 x 13440\n",
            "280 x 12960\n",
            "288 x 12600\n",
            "300 x 12096\n",
            "315 x 11520\n",
            "320 x 11340\n",
            "324 x 11200\n",
            "336 x 10800\n",
            "350 x 10368\n",
            "360 x 10080\n",
            "378 x 9600\n",
            "384 x 9450\n",
            "400 x 9072\n",
            "405 x 8960\n",
            "420 x 8640\n",
            "432 x 8400\n",
            "448 x 8100\n",
            "450 x 8064\n",
            "480 x 7560\n",
            "504 x 7200\n",
            "525 x 6912\n",
            "540 x 6720\n",
            "560 x 6480\n",
            "567 x 6400\n",
            "576 x 6300\n",
            "600 x 6048\n",
            "630 x 5760\n",
            "640 x 5670\n",
            "648 x 5600\n",
            "672 x 5400\n",
            "675 x 5376\n",
            "700 x 5184\n",
            "720 x 5040\n",
            "756 x 4800\n",
            "768 x 4725\n",
            "800 x 4536\n",
            "810 x 4480\n",
            "840 x 4320\n",
            "864 x 4200\n",
            "896 x 4050\n",
            "900 x 4032\n",
            "945 x 3840\n",
            "960 x 3780\n",
            "1008 x 3600\n",
            "1050 x 3456\n",
            "1080 x 3360\n",
            "1120 x 3240\n",
            "1134 x 3200\n",
            "1152 x 3150\n",
            "1200 x 3024\n",
            "1260 x 2880\n",
            "1280 x 2835\n",
            "1296 x 2800\n",
            "1344 x 2700\n",
            "1350 x 2688\n",
            "1400 x 2592\n",
            "1440 x 2520\n",
            "1512 x 2400\n",
            "1575 x 2304\n",
            "1600 x 2268\n",
            "1620 x 2240\n",
            "1680 x 2160\n",
            "1728 x 2100\n",
            "1792 x 2025\n",
            "1800 x 2016\n",
            "1890 x 1920\n"
          ],
          "name": "stdout"
        },
        {
          "output_type": "execute_result",
          "data": {
            "text/plain": [
              "[10, 18, 31, 34, 41, 140, 223, 729, 1904]"
            ]
          },
          "metadata": {
            "tags": []
          },
          "execution_count": 11
        }
      ]
    },
    {
      "cell_type": "code",
      "metadata": {
        "id": "h4YZ2gjcYiAv",
        "colab": {
          "base_uri": "https://localhost:8080/",
          "height": 295
        },
        "outputId": "ba906911-15a8-4daa-c07a-c77b8689e727"
      },
      "source": [
        "import matplotlib.pyplot as plt\n",
        "plt.subplot(1,3,1)\n",
        "p1 = plt.plot (liste_N,liste_temps1,'r',linewidth = 1, label='force brute')\n",
        "plt.legend()\n",
        "\n",
        "plt.subplot(1,3,2)\n",
        "p2 = plt.plot (liste_N,liste_temps2,'b',linewidth = 1, label='1ère amélioration') \n",
        "plt.legend()\n",
        "\n",
        "plt.subplot(1,3,3)\n",
        "p3 = plt.plot (liste_N,liste_temps3,'g',linewidth = 1, label='optimisation')\n",
        "plt.legend()\n",
        "\n",
        "plt.title('Comparaison des complexités des 3 algorithmes')\n",
        "plt.xlabel('N')\n",
        "#plt.xticks(rotation = '90')\n",
        "\n",
        "plt.ylabel('Complexité')\n",
        "\n",
        "plt.legend()\n",
        "plt.show()"
      ],
      "execution_count": null,
      "outputs": [
        {
          "output_type": "display_data",
          "data": {
            "image/png": "[encoded data removed]",
            "text/plain": [
              "<Figure size 432x288 with 3 Axes>"
            ]
          },
          "metadata": {
            "tags": [],
            "needs_background": "light"
          }
        }
      ]
    },
    {
      "cell_type": "markdown",
      "metadata": {
        "id": "_N0IM79iB8Jj"
      },
      "source": [
        "Là où les deux premières méthodes donnent sensiblement les mêmes résultats (la moitié, ça ne compte pas...), la 3<sup>ème</sup> semble \"négligeable\" (c'est le terme scientifique adapté).\n",
        "\n",
        "En l'occurrence, Python n'est tout de même pas l'outil la plus adpaté pour ces visualisations graphies, car sans avis préconçu sur la tailles des résultats, on n'est pas en mesure d'ajuster les échelles des axes.\n",
        "\n",
        "Nous allons récupérer nos données, pour les traiter dans un tableur, plus adapté, et capable de nous donner l'équation mathématique d'une courbe représentant convenablement nos résultats.\n",
        "\n",
        "\n",
        "---\n",
        "\n"
      ]
    },
    {
      "cell_type": "markdown",
      "metadata": {
        "id": "v3-bZEHAGGkC"
      },
      "source": [
        "**Création et téléchargement d'un fichier csv pour génération des courbes de tendance dans un tableur**\n"
      ]
    },
    {
      "cell_type": "code",
      "metadata": {
        "id": "fp3dsOWXGw_T",
        "colab": {
          "base_uri": "https://localhost:8080/",
          "height": 17
        },
        "outputId": "a5cb0ca6-bf2f-4fc3-c0c2-0dc023dbbc2e"
      },
      "source": [
        "import csv\n",
        "\n",
        "with open('SauvegardeTable1.csv', 'w', newline='') as csvfile:\n",
        "    writer = csv.writer(csvfile, delimiter=';')\n",
        "    writer.writerow(liste_N)\n",
        "    writer.writerow(liste_temps1)\n",
        "    writer.writerow(liste_temps2)\n",
        "    writer.writerow(liste_temps3)\n",
        "\n",
        "from google.colab import files\n",
        "files.download(\"SauvegardeTable1.csv\")"
      ],
      "execution_count": null,
      "outputs": [
        {
          "output_type": "display_data",
          "data": {
            "application/javascript": [
              "\n",
              "    async function download(id, filename, size) {\n",
              "      if (!google.colab.kernel.accessAllowed) {\n",
              "        return;\n",
              "      }\n",
              "      const div = document.createElement('div');\n",
              "      const label = document.createElement('label');\n",
              "      label.textContent = `Downloading \"${filename}\": `;\n",
              "      div.appendChild(label);\n",
              "      const progress = document.createElement('progress');\n",
              "      progress.max = size;\n",
              "      div.appendChild(progress);\n",
              "      document.body.appendChild(div);\n",
              "\n",
              "      const buffers = [];\n",
              "      let downloaded = 0;\n",
              "\n",
              "      const channel = await google.colab.kernel.comms.open(id);\n",
              "      // Send a message to notify the kernel that we're ready.\n",
              "      channel.send({})\n",
              "\n",
              "      for await (const message of channel.messages) {\n",
              "        // Send a message to notify the kernel that we're ready.\n",
              "        channel.send({})\n",
              "        if (message.buffers) {\n",
              "          for (const buffer of message.buffers) {\n",
              "            buffers.push(buffer);\n",
              "            downloaded += buffer.byteLength;\n",
              "            progress.value = downloaded;\n",
              "          }\n",
              "        }\n",
              "      }\n",
              "      const blob = new Blob(buffers, {type: 'application/binary'});\n",
              "      const a = document.createElement('a');\n",
              "      a.href = window.URL.createObjectURL(blob);\n",
              "      a.download = filename;\n",
              "      div.appendChild(a);\n",
              "      a.click();\n",
              "      div.remove();\n",
              "    }\n",
              "  "
            ],
            "text/plain": [
              "<IPython.core.display.Javascript object>"
            ]
          },
          "metadata": {
            "tags": []
          }
        },
        {
          "output_type": "display_data",
          "data": {
            "application/javascript": [
              "download(\"download_81f2a860-f3c3-4be0-9ef6-054a71bb89d8\", \"SauvegardeTable1.csv\", 181)"
            ],
            "text/plain": [
              "<IPython.core.display.Javascript object>"
            ]
          },
          "metadata": {
            "tags": []
          }
        }
      ]
    },
    {
      "cell_type": "markdown",
      "metadata": {
        "id": "rJS2OxbwRT-z"
      },
      "source": [
        "Une fois ouvert dans le tableur (Calc ou Excel ou Geogebra), on génère un graphique en \"nuage de points\" et on demande une \"courbe de tendance\", ici polynomiale... (on teste les diverses options, et on voit ce qui va le mieux...)\n",
        "\n",
        "S'agissant d'un processus itératif qui détermine l'équation de la courbe de tendance, on n'obtient pas exactement $\\sqrt N$\n",
        "\n",
        "![...](https://drive.google.com/uc?id=1D9weqYicjRkwYEDP1AMHiJM91l04knC9)"
      ]
    },
    {
      "cell_type": "markdown",
      "metadata": {
        "id": "3B9lc3J5YMbm"
      },
      "source": [
        "Voir aussi dans Google Sheet : [>>ici<<](https://docs.google.com/spreadsheets/d/1TBMKjQA6u75ZJliFxiPHUtu2Y8DrlWLfiSdTZgxBcwo/edit?usp=sharing)\n",
        "\n",
        "***mode opératoire : Ajouter une courbe de tendance***\n",
        "\n",
        "*Sur votre ordinateur, ouvrez une feuille de calcul dans Google Sheets.\n",
        "Double-cliquez sur un graphique.\n",
        "À droite, cliquez sur Personnaliser. ...\n",
        "À côté de \"Appliquer à\", choisissez la série de données à laquelle vous souhaitez ajouter une courbe de tendance.\n",
        "Cliquez sur Courbe de tendance.*"
      ]
    },
    {
      "cell_type": "markdown",
      "metadata": {
        "id": "CwzeOcSgwgJj"
      },
      "source": [
        "**Partie II**\n",
        "\n",
        "1. **Le juste prix**\n",
        "\n",
        "<img src=\"https://upload.wikimedia.org/wikipedia/fr/b/b9/Logo_Juste_Prix_1998-2001.png\" width=\"150\" height=\"120\" />\n",
        "\n",
        "Un joueur doit deviner un prix entier compris entre 1 et un entier N : il avance un prix, l'animateur lui annonce si c'est plus ou moins, et on recommence.\n",
        "\n",
        "On cherche à connaître le nombre de coups maximums, selon ce N, si le joueur adopte la bonne stratégie ?\n",
        "\n",
        "Implémenter l'algorithme du joueur, faire les tests sur des prix demandant le nombre de coups maximums pour un N fixé, et compter le nombre de coups nécessaires, dans les cas suivants :\n",
        "\n",
        "*   N = 64\n",
        "*   N = 500\n",
        "*   N = 1024\n",
        "*   N = 1 048 576\n",
        "*   N = 1 073 741 824\n",
        "\n",
        "\n",
        "\n",
        "---\n",
        "\n",
        "\n"
      ]
    },
    {
      "cell_type": "markdown",
      "metadata": {
        "id": "cn9G0J-99p3K"
      },
      "source": [
        "Dans tous les cas, lorsque le Juste Prix à trouver est 1, le chemin pour y arriver fait partie de ceux qui réalisent le maximum du nombre de coups (le pire des cas).\n",
        "\n",
        "À noter qu'ici, à part N=500, tous les nombres proposés sont des puissances de deux."
      ]
    },
    {
      "cell_type": "code",
      "metadata": {
        "id": "lCwt1Doo_px7"
      },
      "source": [
        "def trouve(NombreATrouver):\n",
        "    c = 1\n",
        "    proposition = int(input(' Nombre proposé :'))\n",
        "    while proposition != NombreATrouver :\n",
        "        c = c+1\n",
        "        if proposition < NombreATrouver :\n",
        "            print(proposition, \" ? C'est plus...\")\n",
        "        else :\n",
        "            print(proposition, \" ? C'est moins...\")\n",
        "        proposition = int(input(' Nombre proposé : '))\n",
        "    return c\n"
      ],
      "execution_count": null,
      "outputs": []
    },
    {
      "cell_type": "code",
      "metadata": {
        "id": "i99qpOdqCHdZ",
        "colab": {
          "base_uri": "https://localhost:8080/",
          "height": 193
        },
        "outputId": "27445525-c04c-445f-f8d8-172e9b88fc99"
      },
      "source": [
        "from random import randint\n",
        "\n",
        "N = 64\n",
        "NombreATrouver = randint(1,N)\n",
        "NbDeCoups = trouve(NombreATrouver)\n",
        "print('Bravo, Nombre de coups nécessaires : ', NbDeCoups)"
      ],
      "execution_count": null,
      "outputs": [
        {
          "output_type": "stream",
          "text": [
            " Nombre proposé :32\n",
            "32  ? C'est plus...\n",
            " Nombre proposé : 48\n",
            "48  ? C'est moins...\n",
            " Nombre proposé : 40\n",
            "40  ? C'est plus...\n",
            " Nombre proposé : 44\n",
            "44  ? C'est plus...\n",
            " Nombre proposé : 46\n",
            "Bravo, Nombre de coups nécessaires :  5\n"
          ],
          "name": "stdout"
        }
      ]
    },
    {
      "cell_type": "code",
      "metadata": {
        "id": "HPYV3W9MJ2Y6"
      },
      "source": [
        "def TrouveToutSeul(NombreATrouver):\n",
        "    inferieur = 1\n",
        "    superieur = N\n",
        "    c = 1\n",
        "    proposition = (inferieur + superieur)//2\n",
        "    while proposition != NombreATrouver :\n",
        "        c = c+1\n",
        "        if proposition < NombreATrouver :\n",
        "            print(proposition, \" ? C'est plus...\")\n",
        "            inferieur = proposition\n",
        "\n",
        "        else :\n",
        "            print(proposition, \" ? C'est moins...\")\n",
        "            superieur = proposition\n",
        "        proposition = (inferieur + superieur)//2\n",
        "    print('Le nombre à trouver était : ', NombreATrouver)\n",
        "    return c"
      ],
      "execution_count": null,
      "outputs": []
    },
    {
      "cell_type": "code",
      "metadata": {
        "id": "Awlhpa6jNHgF",
        "colab": {
          "base_uri": "https://localhost:8080/",
          "height": 122
        },
        "outputId": "f9946f2c-b19b-4a42-ac36-8243c425a063"
      },
      "source": [
        "N = 64\n",
        "NombreATrouver = randint(1,N)\n",
        "NbDeCoups = TrouveToutSeul(NombreATrouver)\n",
        "print('Nombre de coups nécessaires : ', NbDeCoups)"
      ],
      "execution_count": null,
      "outputs": [
        {
          "output_type": "stream",
          "text": [
            "32  ? C'est moins...\n",
            "16  ? C'est plus...\n",
            "24  ? C'est plus...\n",
            "28  ? C'est moins...\n",
            "Le nombre à trouver était :  26\n",
            "Nombre de coups nécessaires :  5\n"
          ],
          "name": "stdout"
        }
      ]
    },
    {
      "cell_type": "markdown",
      "metadata": {
        "id": "j8i-JY9b06tp"
      },
      "source": [
        "2. **Graphiques**\n",
        "\n",
        "Comme précédemment, récupérer les (N / nombre maximum de coups nécessaires), et faire tracer, dans le tableur, les courbes de tendance les plus adaptées.\n",
        "\n",
        "\n",
        "\n",
        "\n",
        "---\n",
        "\n"
      ]
    },
    {
      "cell_type": "code",
      "metadata": {
        "id": "1VNR0iKFIDFG",
        "colab": {
          "base_uri": "https://localhost:8080/",
          "height": 1000
        },
        "outputId": "971f3d89-4dfa-458b-9e9b-6ecb9860acb0"
      },
      "source": [
        "Liste_N = [64, 500, 1024, 1048576, 1073741824 ]\n",
        "NombreATrouver = 1\n",
        "Liste_NbDeCoups=[]\n",
        "\n",
        "for N in Liste_N :\n",
        "    Liste_NbDeCoups.append(TrouveToutSeul(NombreATrouver))\n",
        "\n",
        "Liste_NbDeCoups"
      ],
      "execution_count": null,
      "outputs": [
        {
          "output_type": "stream",
          "text": [
            "32  ? C'est moins...\n",
            "16  ? C'est moins...\n",
            "8  ? C'est moins...\n",
            "4  ? C'est moins...\n",
            "2  ? C'est moins...\n",
            "Le nombre à trouver était :  1\n",
            "250  ? C'est moins...\n",
            "125  ? C'est moins...\n",
            "63  ? C'est moins...\n",
            "32  ? C'est moins...\n",
            "16  ? C'est moins...\n",
            "8  ? C'est moins...\n",
            "4  ? C'est moins...\n",
            "2  ? C'est moins...\n",
            "Le nombre à trouver était :  1\n",
            "512  ? C'est moins...\n",
            "256  ? C'est moins...\n",
            "128  ? C'est moins...\n",
            "64  ? C'est moins...\n",
            "32  ? C'est moins...\n",
            "16  ? C'est moins...\n",
            "8  ? C'est moins...\n",
            "4  ? C'est moins...\n",
            "2  ? C'est moins...\n",
            "Le nombre à trouver était :  1\n",
            "524288  ? C'est moins...\n",
            "262144  ? C'est moins...\n",
            "131072  ? C'est moins...\n",
            "65536  ? C'est moins...\n",
            "32768  ? C'est moins...\n",
            "16384  ? C'est moins...\n",
            "8192  ? C'est moins...\n",
            "4096  ? C'est moins...\n",
            "2048  ? C'est moins...\n",
            "1024  ? C'est moins...\n",
            "512  ? C'est moins...\n",
            "256  ? C'est moins...\n",
            "128  ? C'est moins...\n",
            "64  ? C'est moins...\n",
            "32  ? C'est moins...\n",
            "16  ? C'est moins...\n",
            "8  ? C'est moins...\n",
            "4  ? C'est moins...\n",
            "2  ? C'est moins...\n",
            "Le nombre à trouver était :  1\n",
            "536870912  ? C'est moins...\n",
            "268435456  ? C'est moins...\n",
            "134217728  ? C'est moins...\n",
            "67108864  ? C'est moins...\n",
            "33554432  ? C'est moins...\n",
            "16777216  ? C'est moins...\n",
            "8388608  ? C'est moins...\n",
            "4194304  ? C'est moins...\n",
            "2097152  ? C'est moins...\n",
            "1048576  ? C'est moins...\n",
            "524288  ? C'est moins...\n",
            "262144  ? C'est moins...\n",
            "131072  ? C'est moins...\n",
            "65536  ? C'est moins...\n",
            "32768  ? C'est moins...\n",
            "16384  ? C'est moins...\n",
            "8192  ? C'est moins...\n",
            "4096  ? C'est moins...\n",
            "2048  ? C'est moins...\n",
            "1024  ? C'est moins...\n",
            "512  ? C'est moins...\n",
            "256  ? C'est moins...\n",
            "128  ? C'est moins...\n",
            "64  ? C'est moins...\n",
            "32  ? C'est moins...\n",
            "16  ? C'est moins...\n",
            "8  ? C'est moins...\n",
            "4  ? C'est moins...\n",
            "2  ? C'est moins...\n",
            "Le nombre à trouver était :  1\n"
          ],
          "name": "stdout"
        },
        {
          "output_type": "execute_result",
          "data": {
            "text/plain": [
              "[6, 9, 10, 20, 30]"
            ]
          },
          "metadata": {
            "tags": []
          },
          "execution_count": 18
        }
      ]
    },
    {
      "cell_type": "code",
      "metadata": {
        "id": "QMrc87zeO_yF",
        "colab": {
          "base_uri": "https://localhost:8080/",
          "height": 17
        },
        "outputId": "b1579c4c-c6c1-456a-bd32-8fa0ab332ca8"
      },
      "source": [
        "import csv\n",
        "\n",
        "with open('SauvegardeTable2.csv', 'w', newline='') as csvfile:\n",
        "    writer = csv.writer(csvfile, delimiter=';')\n",
        "    writer.writerow(Liste_N)\n",
        "    writer.writerow(Liste_NbDeCoups)\n",
        "\n",
        "from google.colab import files\n",
        "files.download(\"SauvegardeTable2.csv\")"
      ],
      "execution_count": null,
      "outputs": [
        {
          "output_type": "display_data",
          "data": {
            "application/javascript": [
              "\n",
              "    async function download(id, filename, size) {\n",
              "      if (!google.colab.kernel.accessAllowed) {\n",
              "        return;\n",
              "      }\n",
              "      const div = document.createElement('div');\n",
              "      const label = document.createElement('label');\n",
              "      label.textContent = `Downloading \"${filename}\": `;\n",
              "      div.appendChild(label);\n",
              "      const progress = document.createElement('progress');\n",
              "      progress.max = size;\n",
              "      div.appendChild(progress);\n",
              "      document.body.appendChild(div);\n",
              "\n",
              "      const buffers = [];\n",
              "      let downloaded = 0;\n",
              "\n",
              "      const channel = await google.colab.kernel.comms.open(id);\n",
              "      // Send a message to notify the kernel that we're ready.\n",
              "      channel.send({})\n",
              "\n",
              "      for await (const message of channel.messages) {\n",
              "        // Send a message to notify the kernel that we're ready.\n",
              "        channel.send({})\n",
              "        if (message.buffers) {\n",
              "          for (const buffer of message.buffers) {\n",
              "            buffers.push(buffer);\n",
              "            downloaded += buffer.byteLength;\n",
              "            progress.value = downloaded;\n",
              "          }\n",
              "        }\n",
              "      }\n",
              "      const blob = new Blob(buffers, {type: 'application/binary'});\n",
              "      const a = document.createElement('a');\n",
              "      a.href = window.URL.createObjectURL(blob);\n",
              "      a.download = filename;\n",
              "      div.appendChild(a);\n",
              "      a.click();\n",
              "      div.remove();\n",
              "    }\n",
              "  "
            ],
            "text/plain": [
              "<IPython.core.display.Javascript object>"
            ]
          },
          "metadata": {
            "tags": []
          }
        },
        {
          "output_type": "display_data",
          "data": {
            "application/javascript": [
              "download(\"download_fbaf73e7-213a-44fd-b2bd-199716d9036e\", \"SauvegardeTable2.csv\", 46)"
            ],
            "text/plain": [
              "<IPython.core.display.Javascript object>"
            ]
          },
          "metadata": {
            "tags": []
          }
        }
      ]
    },
    {
      "cell_type": "markdown",
      "metadata": {
        "id": "NPo2ViPYP_Ki"
      },
      "source": [
        "La courbe de tendance rendue par le tableur est logarithmique et a pour équation approchée : y = 1.4419.ln(N) + 0.0147.\n",
        "\n",
        "Entre nous : 1.4419 n'est autre que $\\frac 1 {ln(2)}$, autrement dit : y = log<sub>2</sub> (N)\n",
        "\n",
        "Pour les élèves : on appelle log<sub>2</sub>(N) le nombre de niveaux d'un arbre binaire de racine 2<sup>N</sup>\n",
        "\n",
        "\n",
        "\n"
      ]
    },
    {
      "cell_type": "markdown",
      "metadata": {
        "id": "S-c0vZ4V09Jb"
      },
      "source": [
        "3. ***Défi 2 : pour les matheux***\n",
        "\n",
        "*Pour les N suivants, donner une valeur approchée à la précision 10<sup>-N</sup> de la racine de la fonction f dont l'expression est :*\n",
        "\n",
        "*f(x) = x<sup>3</sup> + x<sup>2</sup> - 6x + 5.*\n",
        "\n",
        "*On procédera* \n",
        "\n",
        "* *par balayage*\n",
        "\n",
        "* *par dichotomie*\n",
        "\n",
        "\n",
        "<img src=\"https://algo.infoprepa.epita.fr/images/d/d5/Arbre_decision_dichotomie.png\" width=\"300\" height=\"120\" />\n",
        "\n",
        "*et on comparera les coûts en temps des deux méthodes. Expliquer.*\n",
        "\n",
        "\n",
        "---\n",
        "\n",
        "**Remarque :**\n",
        "\n",
        "La hauteur de l'arbre binaire du \"Juste Prix\" ou de la recherche dichotomique de la racine de l'équation f(x) = 0 s'appelle le **log<sub>2</sub> (N)** (on lit \"log base 2 de N)"
      ]
    },
    {
      "cell_type": "code",
      "metadata": {
        "id": "RNQQKgnGOhNJ"
      },
      "source": [
        "import matplotlib.pyplot as plt\n",
        "import numpy as np"
      ],
      "execution_count": null,
      "outputs": []
    },
    {
      "cell_type": "markdown",
      "metadata": {
        "id": "_giwBMgUOhNO"
      },
      "source": [
        "**La fonction**\n",
        "\n",
        "Nous allons étudier les (un des) zéros de la fonction f dont l'expression est f(x) = x<sup>3</sup> + x<sup>2</sup> - 6x + 5.\n"
      ]
    },
    {
      "cell_type": "code",
      "metadata": {
        "id": "jEERkSYUOhNP",
        "colab": {
          "base_uri": "https://localhost:8080/",
          "height": 265
        },
        "outputId": "d2e892ff-728d-47fd-f632-0a9dd193e02e"
      },
      "source": [
        "# Définition de la fonction\n",
        "def f(x):\n",
        "    y = x**3 + x**2 -6*x + 5\n",
        "    return y\n",
        "    \n",
        "import numpy as np\n",
        "# Représentation graphique\n",
        "xx = np.arange(-4,3,0.1) # liste numpy de -4 à 3 avec un pas de 0.1 (les listes natives avec range sont des listes d'entiers)\n",
        "yy = []\n",
        "\n",
        "for x in xx :\n",
        "    yy.append(f(x))\n",
        "    \n",
        "p1 = plt.plot(xx,yy,'r',linewidth=1)\n",
        "\n",
        "ax = plt.gca()\n",
        "ax.spines['left'].set_position('zero')\n",
        "ax.spines['right'].set_color('none')\n",
        "ax.spines['bottom'].set_position('zero')\n",
        "ax.spines['top'].set_color('none')\n",
        "\n",
        "plt.xlim(-5,3)\n",
        "plt.title('y = x^3 + x^2 - 6x + 5')\n",
        "plt.show()"
      ],
      "execution_count": null,
      "outputs": [
        {
          "output_type": "display_data",
          "data": {
            "image/png": "[encoded data removed]",
            "text/plain": [
              "<Figure size 432x288 with 1 Axes>"
            ]
          },
          "metadata": {
            "tags": [],
            "needs_background": "light"
          }
        }
      ]
    },
    {
      "cell_type": "markdown",
      "metadata": {
        "id": "9dC5lugsOhNU"
      },
      "source": [
        "Nous allons chercher une valeur approchée du zéro qui, apparamment, est compris entre -4 et -3."
      ]
    },
    {
      "cell_type": "code",
      "metadata": {
        "id": "nTx-IDgMOhNV"
      },
      "source": [
        "# précision souhaitée\n",
        "nb_decimales = 5\n",
        "epsilon = 10**(-nb_decimales)\n",
        "\n",
        "#intervalle d'étude [1 ; 3]\n",
        "a = -4\n",
        "b = -3\n"
      ],
      "execution_count": null,
      "outputs": []
    },
    {
      "cell_type": "markdown",
      "metadata": {
        "id": "y4-um30xOhNZ"
      },
      "source": [
        "### 1. Par balayage###\n",
        "\n",
        "\n",
        "Le principe est simple : on part de la borne gauche, -4 , où la fonction prend des valeurs négatives, et on avance pas à pas, avec un pas égal à la précision '*epsilon*' recherchée, jusqu'à ce que la fonction prenne sa première valeur positive, lieu de la valeur approchée par excès de la racine cherchée, à *epsilon* près. "
      ]
    },
    {
      "cell_type": "code",
      "metadata": {
        "id": "4Ik9eF7_OhNa",
        "colab": {
          "base_uri": "https://localhost:8080/",
          "height": 243
        },
        "outputId": "64402536-f14e-4a12-8334-d735d3893766"
      },
      "source": [
        "u = a\n",
        "compteur = 0\n",
        "while f(u) < 0:\n",
        "    compteur = compteur + 1\n",
        "    u = u + epsilon\n",
        "    \n",
        "print('La valeur approchée par excès à ',epsilon,'près est : ',round(u,nb_decimales),'   après ',compteur,' itérations.')"
      ],
      "execution_count": null,
      "outputs": [
        {
          "output_type": "error",
          "ename": "NameError",
          "evalue": "ignored",
          "traceback": [
            "\u001b[0;31m---------------------------------------------------------------------------\u001b[0m",
            "\u001b[0;31mNameError\u001b[0m                                 Traceback (most recent call last)",
            "\u001b[0;32m<ipython-input-1-21eb60e0b99d>\u001b[0m in \u001b[0;36m<module>\u001b[0;34m()\u001b[0m\n\u001b[0;32m----> 1\u001b[0;31m \u001b[0mu\u001b[0m \u001b[0;34m=\u001b[0m \u001b[0ma\u001b[0m\u001b[0;34m\u001b[0m\u001b[0;34m\u001b[0m\u001b[0m\n\u001b[0m\u001b[1;32m      2\u001b[0m \u001b[0mcompteur\u001b[0m \u001b[0;34m=\u001b[0m \u001b[0;36m0\u001b[0m\u001b[0;34m\u001b[0m\u001b[0;34m\u001b[0m\u001b[0m\n\u001b[1;32m      3\u001b[0m \u001b[0;32mwhile\u001b[0m \u001b[0mf\u001b[0m\u001b[0;34m(\u001b[0m\u001b[0mu\u001b[0m\u001b[0;34m)\u001b[0m \u001b[0;34m<\u001b[0m \u001b[0;36m0\u001b[0m\u001b[0;34m:\u001b[0m\u001b[0;34m\u001b[0m\u001b[0;34m\u001b[0m\u001b[0m\n\u001b[1;32m      4\u001b[0m     \u001b[0mcompteur\u001b[0m \u001b[0;34m=\u001b[0m \u001b[0mcompteur\u001b[0m \u001b[0;34m+\u001b[0m \u001b[0;36m1\u001b[0m\u001b[0;34m\u001b[0m\u001b[0;34m\u001b[0m\u001b[0m\n\u001b[1;32m      5\u001b[0m     \u001b[0mu\u001b[0m \u001b[0;34m=\u001b[0m \u001b[0mu\u001b[0m \u001b[0;34m+\u001b[0m \u001b[0mepsilon\u001b[0m\u001b[0;34m\u001b[0m\u001b[0;34m\u001b[0m\u001b[0m\n",
            "\u001b[0;31mNameError\u001b[0m: name 'a' is not defined"
          ]
        }
      ]
    },
    {
      "cell_type": "markdown",
      "metadata": {
        "id": "bJ9NXCBnWBFv"
      },
      "source": [
        "Pour une précision attendue de 1/100 000<sup>ème</sup>, le nombre de coups nécessaires par balayage est de l'ordre de 100 000, alors que par dichotomie, il n'est que de 17, soit log<sub>2</sub> (100 000)"
      ]
    },
    {
      "cell_type": "markdown",
      "metadata": {
        "id": "06w2sbrVOhNe"
      },
      "source": [
        "### 2. Par dichotomie###\n",
        "\n",
        "\n"
      ]
    },
    {
      "cell_type": "code",
      "metadata": {
        "id": "Fk4jnhpaOhNf",
        "colab": {
          "base_uri": "https://localhost:8080/",
          "height": 229
        },
        "outputId": "d1e04b84-ab9d-42cf-b901-de998655ba53"
      },
      "source": [
        "compteur = 0\n",
        "u = a\n",
        "v = b\n",
        "while v-u > epsilon :\n",
        "    compteur = compteur + 1\n",
        "    c = (u+v)/2\n",
        "    if f(u)*f(c) < 0 :\n",
        "        v = c\n",
        "    else :\n",
        "        u = c\n",
        "        \n",
        "print('Une valeur approchée à ',epsilon,'près est : ',round(c,nb_decimales),'   après ',compteur,' itérations.')"
      ],
      "execution_count": null,
      "outputs": [
        {
          "output_type": "error",
          "ename": "NameError",
          "evalue": "ignored",
          "traceback": [
            "\u001b[0;31m---------------------------------------------------------------------------\u001b[0m",
            "\u001b[0;31mNameError\u001b[0m                                 Traceback (most recent call last)",
            "\u001b[0;32m<ipython-input-1-cad0bb19e5f6>\u001b[0m in \u001b[0;36m<module>\u001b[0;34m()\u001b[0m\n\u001b[1;32m      1\u001b[0m \u001b[0mcompteur\u001b[0m \u001b[0;34m=\u001b[0m \u001b[0;36m0\u001b[0m\u001b[0;34m\u001b[0m\u001b[0;34m\u001b[0m\u001b[0m\n\u001b[0;32m----> 2\u001b[0;31m \u001b[0mu\u001b[0m \u001b[0;34m=\u001b[0m \u001b[0ma\u001b[0m\u001b[0;34m\u001b[0m\u001b[0;34m\u001b[0m\u001b[0m\n\u001b[0m\u001b[1;32m      3\u001b[0m \u001b[0mv\u001b[0m \u001b[0;34m=\u001b[0m \u001b[0mb\u001b[0m\u001b[0;34m\u001b[0m\u001b[0;34m\u001b[0m\u001b[0m\n\u001b[1;32m      4\u001b[0m \u001b[0;32mwhile\u001b[0m \u001b[0mv\u001b[0m\u001b[0;34m-\u001b[0m\u001b[0mu\u001b[0m \u001b[0;34m>\u001b[0m \u001b[0mepsilon\u001b[0m \u001b[0;34m:\u001b[0m\u001b[0;34m\u001b[0m\u001b[0;34m\u001b[0m\u001b[0m\n\u001b[1;32m      5\u001b[0m     \u001b[0mcompteur\u001b[0m \u001b[0;34m=\u001b[0m \u001b[0mcompteur\u001b[0m \u001b[0;34m+\u001b[0m \u001b[0;36m1\u001b[0m\u001b[0;34m\u001b[0m\u001b[0;34m\u001b[0m\u001b[0m\n",
            "\u001b[0;31mNameError\u001b[0m: name 'a' is not defined"
          ]
        }
      ]
    },
    {
      "cell_type": "markdown",
      "metadata": {
        "id": "y4hcPAZb4JcP"
      },
      "source": [
        "**PARTIE III : Tris**\n",
        "\n",
        "1. **Tris déjà connus**\n",
        "\n",
        "On partira d'une liste de N entiers entre 1 et N, classés aléatoirement.\n",
        "Réécrire les algorithmes de :\n",
        "\n",
        "* tri par sélection\n",
        "* tri par insertion\n",
        "* **Défi 3 : pour les bons en algo** tri bulle \n",
        "\n",
        "(voir animation ici : http://lwh.free.fr/pages/algo/tri/tri_bulle.html, décrire l'algorithme et le traduire en Python, avant d'aller étudier le code et proposer une batterie de tests pertinente)\n",
        "* \"*BogoSort*\"... Quoi, vous ne connaissez pas ? Facile : vous effectuer un classement au hasard des N nombres, si ce n'est pas bon, vous recommencez... (conseil : ne pas prendre un N trop grand... 12 est déjà beaucoup...)\n",
        "\n",
        "Effectuer les relevés et graphiques nécessaires, avec courbes de tendance. Commenter.\n",
        "\n",
        "\n",
        "---\n",
        "\n",
        "\n",
        "\n",
        "\n"
      ]
    },
    {
      "cell_type": "markdown",
      "metadata": {
        "id": "beN-LoYj8B4C"
      },
      "source": [
        "2. **Tri fusion**\n",
        "\n",
        "Étudier le contenu de la page suivante : http://lwh.free.fr/pages/algo/tri/tri_fusion.html \n",
        "\n",
        "ou celle-ci :"
      ]
    },
    {
      "cell_type": "code",
      "metadata": {
        "id": "MYjIEw9P6fkZ"
      },
      "source": [
        "%%html\n",
        "<iframe src=\"https://pixees.fr/informatiquelycee/n_site/isn_algo_diviser_pour_regner.html\" width=\"800\" height=\"500\"></iframe>"
      ],
      "execution_count": null,
      "outputs": []
    },
    {
      "cell_type": "markdown",
      "metadata": {
        "id": "zamcROuf6ZUk"
      },
      "source": [
        "<iframe \n",
        " src=\"http://lwh.free.fr/pages/algo/tri/tri_fusion.html\"\n",
        " width=\"100%\" height=\"500\"\n",
        " sandbox>\n",
        "  <p>\n",
        "    <a href=\"https://developer.mozilla.org/fr/docs/Web/JavaScript/\">\n",
        "      Un lien à utiliser dans les cas où les navigateurs ne supportent\n",
        "      pas les <i>iframes</i>.\n",
        "    </a>\n",
        "  </p>\n",
        "</iframe>"
      ]
    },
    {
      "cell_type": "markdown",
      "metadata": {
        "id": "NU85KkQJ7SfV"
      },
      "source": [
        "Tester le code suivant dans Python Tutor, puis commenter ce code et écrire les \"*DocStrings*\" des deux fonctions."
      ]
    },
    {
      "cell_type": "code",
      "metadata": {
        "id": "IXZ4DNHAZKvq"
      },
      "source": [
        "!pip install metakernel\n",
        "\n",
        "from metakernel import register_ipython_magics\n",
        "register_ipython_magics()"
      ],
      "execution_count": null,
      "outputs": []
    },
    {
      "cell_type": "code",
      "metadata": {
        "id": "xxdfaYgu7Za1"
      },
      "source": [
        "%%tutor # lancement de PythonTutor\n",
        "\n",
        "def fusion(gauche,droite):\n",
        "    ''' reçoit deux listes et renvoie la liste fusionnée par intercalation'''\n",
        "\n",
        "    resultat = []\n",
        "    index_gauche, index_droite = 0, 0\n",
        "    while index_gauche < len(gauche) and index_droite < len(droite):   \n",
        "        # Tant que la liste de gauche n'a pas été recopiée, on la recopie terme après terme.     \n",
        "        if gauche[index_gauche] <= droite[index_droite]:\n",
        "            resultat.append(gauche[index_gauche])\n",
        "            index_gauche += 1\n",
        "        else:\n",
        "            resultat.append(droite[index_droite])\n",
        "            index_droite += 1\n",
        "    if gauche:\n",
        "        resultat.extend(gauche[index_gauche:])\n",
        "    if droite:\n",
        "        resultat.extend(droite[index_droite:])\n",
        "    return resultat\n",
        " \n",
        "def tri_fusion(m):\n",
        "    ''' Fonction récursive recevant une liste, la coupant en deux et renvoyant les deux demi-listes triées'''\n",
        "    \n",
        "    if len(m) <= 1:\n",
        "        return m\n",
        "    milieu = len(m) // 2\n",
        "    gauche = m[:milieu]\n",
        "    droite = m[milieu:]\n",
        "    gauche = tri_fusion(gauche)\n",
        "    droite = tri_fusion(droite)\n",
        "    return list(fusion(gauche, droite))\n",
        "\n",
        "m =[3,1,4,5,2]\n",
        "tri_fusion(m)"
      ],
      "execution_count": null,
      "outputs": []
    },
    {
      "cell_type": "markdown",
      "metadata": {
        "id": "yboAVquAt3un"
      },
      "source": [
        "Version itérative du tri fusion (Merge Sort)\n",
        "\n",
        "source : https://www.geeksforgeeks.org/iterative-merge-sort/ "
      ]
    },
    {
      "cell_type": "code",
      "metadata": {
        "id": "RvC3gWvOuwtD"
      },
      "source": [
        "#Création d'une liste aléatoire des entiers de 1 à N\n",
        "from random import *\n",
        "\n",
        "N = 7\n",
        "L = list(range(1,N+1))\n",
        "shuffle(L)\n",
        "L"
      ],
      "execution_count": null,
      "outputs": []
    },
    {
      "cell_type": "code",
      "metadata": {
        "id": "pRKASiLqt-WB"
      },
      "source": [
        "# Iterative Merge sort (Bottom Up) \n",
        "\n",
        "# Iterative mergesort function to \n",
        "# sort arr[0...n-1] \n",
        "def mergeSort(a): \n",
        "\t\n",
        "\tcurrent_size = 1\n",
        "\t\n",
        "\t# Outer loop for traversing Each \n",
        "\t# sub array of current_size \n",
        "\twhile current_size < len(a) - 1: \n",
        "\t\t\n",
        "\t\tleft = 0\n",
        "\t\t# Inner loop for merge call \n",
        "\t\t# in a sub array \n",
        "\t\t# Each complete Iteration sorts \n",
        "\t\t# the iterating sub array \n",
        "\t\twhile left < len(a)-1: \n",
        "\t\t\t\n",
        "\t\t\t# mid index = left index of \n",
        "\t\t\t# sub array + current sub \n",
        "\t\t\t# array size - 1 \n",
        "\t\t\tmid = min((left + current_size - 1),(len(a)-1)) \n",
        "\t\t\t\n",
        "\t\t\t# (False result,True result) \n",
        "\t\t\t# [Condition] Can use current_size \n",
        "\t\t\t# if 2 * current_size < len(a)-1 \n",
        "\t\t\t# else len(a)-1 \n",
        "\t\t\tright = ((2 * current_size + left - 1, \n",
        "\t\t\t\t\tlen(a) - 1)[2 * current_size \n",
        "\t\t\t\t\t\t+ left - 1 > len(a)-1]) \n",
        "\t\t\t\t\t\t\t\n",
        "\t\t\t# Merge call for each sub array \n",
        "\t\t\tmerge(a, left, mid, right) \n",
        "\t\t\tleft = left + current_size*2\n",
        "\t\t\t\n",
        "\t\t# Increasing sub array size by \n",
        "\t\t# multiple of 2 \n",
        "\t\tcurrent_size = 2 * current_size \n",
        "\n",
        "# Merge Function \n",
        "def merge(a, l, m, r): \n",
        "\tn1 = m - l + 1\n",
        "\tn2 = r - m \n",
        "\tL = [0] * n1 \n",
        "\tR = [0] * n2 \n",
        "\tfor i in range(0, n1): \n",
        "\t\tL[i] = a[l + i] \n",
        "\tfor i in range(0, n2): \n",
        "\t\tR[i] = a[m + i + 1] \n",
        "\n",
        "\ti, j, k = 0, 0, l \n",
        "\twhile i < n1 and j < n2: \n",
        "\t\tif L[i] > R[j]: \n",
        "\t\t\ta[k] = R[j] \n",
        "\t\t\tj += 1\n",
        "\t\telse: \n",
        "\t\t\ta[k] = L[i] \n",
        "\t\t\ti += 1\n",
        "\t\tk += 1\n",
        "\n",
        "\twhile i < n1: \n",
        "\t\ta[k] = L[i] \n",
        "\t\ti += 1\n",
        "\t\tk += 1\n",
        "\n",
        "\twhile j < n2: \n",
        "\t\ta[k] = R[j] \n",
        "\t\tj += 1\n",
        "\t\tk += 1\n",
        "\n",
        "\n",
        "# Driver code \n",
        "a = [12, 11, 13, 5, 6, 7] \n",
        "print(\"Given array is \") \n",
        "print(a) \n",
        "\n",
        "mergeSort(a) \n",
        "\n",
        "print(\"Sorted array is \") \n",
        "print(a) \n",
        "\n",
        "# Contributed by Madhur Chhangani [RCOEM] \n"
      ],
      "execution_count": null,
      "outputs": []
    },
    {
      "cell_type": "code",
      "metadata": {
        "id": "ndqp8u490xf3"
      },
      "source": [
        "L"
      ],
      "execution_count": null,
      "outputs": []
    },
    {
      "cell_type": "code",
      "metadata": {
        "id": "iFta6Jxv1iG3"
      },
      "source": [
        "mergeSort(L)\n",
        "print(L)"
      ],
      "execution_count": null,
      "outputs": []
    },
    {
      "cell_type": "markdown",
      "metadata": {
        "id": "KeYcATiRuTJe"
      },
      "source": [
        "Le code est certes plus complexe à lire, mais le temps d'exécution est légèrement meilleur, n'ayant pas à gérer la pile de récursivité. Par contre, le coût en place mémoire est bien moindre !\n",
        "\n",
        "\n",
        "---\n",
        "\n",
        "\n",
        "\n"
      ]
    },
    {
      "cell_type": "markdown",
      "metadata": {
        "id": "tGjpi44n9Wnr"
      },
      "source": [
        "3. Expliquer pourquoi le coût du tri fusion ressemble à **N * log<sub>2</sub> (N)**\n",
        "\n",
        "\n",
        "---\n",
        "\n",
        "\n",
        "\n"
      ]
    },
    {
      "cell_type": "markdown",
      "metadata": {
        "id": "ke0MvUTilDyf"
      },
      "source": [
        "La séparation de la liste en deux demi-listes donne finalement un coût en log<sub>2</sub> (N).\n",
        "Le parcours de la liste entière répète N fois cette dichotomie, d'où le coût global en N*log<sub>2</sub> (N)\n"
      ]
    },
    {
      "cell_type": "markdown",
      "metadata": {
        "id": "4TX86mga-crj"
      },
      "source": [
        "4. Comparer avec la méthode de liste \"***sort***\" de Python.\n",
        "\n",
        "\n",
        "---\n",
        "\n"
      ]
    },
    {
      "cell_type": "markdown",
      "metadata": {
        "id": "Q6ZEVw29mQ4j"
      },
      "source": [
        "La méthode de tri \"sort\" donne approximativement un coût du même ordre de grandeur,légèrement meilleur cependant."
      ]
    },
    {
      "cell_type": "markdown",
      "metadata": {
        "id": "MCjxfSoJ-mZ-"
      },
      "source": [
        "**PARTIE IV : Coûts exhorbitants**\n",
        "\n",
        "1. **Factorielle**\n",
        "\n",
        "Pour calculer la \"factorielle\" d'un nombre entier N, on multiplie tous les entiers de 1 jusqu'à N. On la note \"N!\".\n",
        "\n",
        "Écrire une fonction itérative et une fonction récursive calculant la factorielle d'une entier N donné en entrée.\n",
        "\n",
        "Observer et décrire le déroulement dans Python Tutor.\n",
        "Tracer le graphique donnant N! en fonction de N.\n",
        "\n",
        "La version récursive présente-t-elle un gain par rapport à la version itérative ? (en temps ? en place mémoire ?)\n",
        "\n",
        "Pourquoi vaut-il mieux ne pas dépasser N = 12 ?\n",
        "\n",
        "\n",
        "\n",
        "---\n",
        "\n"
      ]
    },
    {
      "cell_type": "markdown",
      "metadata": {
        "id": "WwsdcJNb4yIy"
      },
      "source": [
        "2. **Concours de rapidité d'exécution**\n",
        "\n",
        "Le nombre de façons de placer k objets identiques dans N cases numérotées, à raison d'un objet par case au maximum, s'appelle la \"**Combinaison de k parmi N**\".\n",
        "\n",
        "On la calcule avec l'une des deux formules suivantes :\n",
        "\n",
        "$ \\binom{N}{k} = \\frac{N!}{k!(N - k)!} $\n",
        "ou $\\binom{N}{k} =  \\binom{N-1}{k-1} +\\binom{N-1}{k}$\n",
        "\n",
        "\n",
        "\n",
        "*   Calculer, sur papier, de tête, la valeur exacte de $\\binom{15}{6}$\n",
        "*   Écrire un programme qui calcule exactement ce nombre le plus efficacement possible (on mettra un compteur de multiplications)...\n",
        "\n",
        "\n",
        "---\n",
        "\n",
        "\n",
        "\n",
        "\n",
        "\n"
      ]
    },
    {
      "cell_type": "markdown",
      "metadata": {
        "id": "lHJfCIAf7C23"
      },
      "source": [
        "**Défi 4 : produit matriciel**\n",
        "\n",
        "Une matrice carrée de taille N est un tableau de NxN nombres.\n",
        "Pour apprendre à multiplier deux matrices voir ici : https://www.youtube.com/watch?v=PKzibb7GBz4  \n",
        "\n",
        "\n",
        "\n",
        "<img src=\"https://user.oc-static.com/files/420001_421000/420021.png\" width=\"300\" height=\"130\" />\n"
      ]
    },
    {
      "cell_type": "code",
      "metadata": {
        "id": "AIwK6HbT7PTV"
      },
      "source": [
        "from IPython.display import HTML\n",
        "\n",
        "HTML('<iframe width=\"560\" height=\"315\" src=\"https://www.youtube.com/embed/PKzibb7GBz4\" frameborder=\"0\" allow=\"accelerometer; autoplay; clipboard-write; encrypted-media; gyroscope; picture-in-picture\" allowfullscreen></iframe>')"
      ],
      "execution_count": null,
      "outputs": []
    },
    {
      "cell_type": "markdown",
      "metadata": {
        "id": "lF3nAWNl9MWI"
      },
      "source": [
        "\n",
        "Écrire un programme qui calcule le produit de deux matrices NxN pour N = 3 puis 8 puis 15 et 30.\n",
        "\n",
        "(On pourra les faire remplir de nombres entiers aléatoires entre -2 et 3, par exemple)\n",
        "\n",
        "Prendre pour estimateur du temps le nombre de multiplications.\n",
        "\n",
        "Quel est le degré de la meilleure courbe de tendance polynomiale ?\n",
        "\n",
        "\n",
        "---\n",
        "\n",
        "\n"
      ]
    },
    {
      "cell_type": "markdown",
      "metadata": {
        "id": "BSrfYq6_jD7D"
      },
      "source": [
        "**COURS ILLUSTRÉ : ordre de grandeur de la \"Complexité\" d'un programme**\n",
        "\n",
        "* notation O( )\n",
        "* Comparaison de différents ordres de grandeur de complexité\n",
        "* règles de calculs sur les O()\n",
        "* Exemples de détermination de l'ordre de grandeur de la complexité d'un programme.\n",
        "\n",
        "\n",
        "---\n",
        "\n",
        "\n",
        "\n",
        "\n"
      ]
    },
    {
      "cell_type": "markdown",
      "metadata": {
        "id": "3kp-wtbTlLR6"
      },
      "source": [
        "**EXERCICES**\n",
        "\n",
        "Reprendre les programmes précédents et déterminer l'ordre de grandeur de leur complexité\n",
        "\n",
        "**Défi 5 :** valeur exacte en fonction de N de la complexité de quelques-uns d'entre eux."
      ]
    },
    {
      "cell_type": "code",
      "metadata": {
        "id": "Zi4h5HdnjToi"
      },
      "source": [
        ""
      ],
      "execution_count": null,
      "outputs": []
    }
  ]
}