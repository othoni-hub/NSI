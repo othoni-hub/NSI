{
  "nbformat": 4,
  "nbformat_minor": 0,
  "metadata": {
    "colab": {
      "name": "Algorithmique et Programmation Python.ipynb",
      "provenance": [],
      "authorship_tag": "ABX9TyOPxaahXu59jdSEZXRhZyVI",
      "include_colab_link": true
    },
    "kernelspec": {
      "name": "python3",
      "display_name": "Python 3"
    },
    "language_info": {
      "name": "python"
    }
  },
  "cells": [
    {
      "cell_type": "markdown",
      "metadata": {
        "id": "view-in-github",
        "colab_type": "text"
      },
      "source": [
        "<a href=\"https://colab.research.google.com/github/othoni-hub/NSI/blob/main/Algorithmique_et_Programmation_Python.ipynb\" target=\"_parent\"><img src=\"https://colab.research.google.com/assets/colab-badge.svg\" alt=\"Open In Colab\"/></a>"
      ]
    },
    {
      "cell_type": "markdown",
      "metadata": {
        "id": "9gRjJPolrmT_"
      },
      "source": [
        "# **UCO - M1 MEEF Mathématiques** \n",
        "\n",
        "<img src=\"https://drive.google.com/uc?id=12Wo3LubGGT4qOvYFAuLP4CyCuwjKNVuk\" width=\"230\" height=\"150\" align = \"right\"/>\n",
        "\n",
        "# **Algorithmique et Programmation en lycée**\n",
        "\n",
        "\n",
        "\n",
        "\n",
        "**O.Thöni**\n",
        "\n",
        "*(Pour exécuter une cellule, appuyer sur les touches \"Shift\"+\"Entrée\")*\n",
        "\n"
      ]
    },
    {
      "cell_type": "markdown",
      "metadata": {
        "id": "gF2WqccDPiGl"
      },
      "source": [
        "# **Préambule**\n",
        "\n",
        "## **La pensée algorithmique : partie intégrante de la pensée mathématique**"
      ]
    },
    {
      "cell_type": "code",
      "metadata": {
        "colab": {
          "base_uri": "https://localhost:8080/",
          "height": 524
        },
        "id": "nVlBK9qHQBLC",
        "outputId": "3333c769-ee8e-4028-d086-71515357e1ca"
      },
      "source": [
        "%%html\n",
        "<iframe src=\"https://docs.google.com/presentation/d/1C8UttwVN2FckAiQA-7OY1Q6uC-bRM_Cu1hZSBrdlGsA/edit?usp=sharing\" width=\"800\" height=\"500\"></iframe>"
      ],
      "execution_count": null,
      "outputs": [
        {
          "output_type": "display_data",
          "data": {
            "text/html": [
              "<iframe src=\"https://docs.google.com/presentation/d/1C8UttwVN2FckAiQA-7OY1Q6uC-bRM_Cu1hZSBrdlGsA/edit?usp=sharing\" width=\"800\" height=\"500\"></iframe>"
            ],
            "text/plain": [
              "<IPython.core.display.HTML object>"
            ]
          },
          "metadata": {}
        }
      ]
    },
    {
      "cell_type": "markdown",
      "metadata": {
        "id": "RRMwm6JdRtxW"
      },
      "source": [
        "## **Algorithmique : de quoi parle-t-on ?**"
      ]
    },
    {
      "cell_type": "code",
      "metadata": {
        "colab": {
          "base_uri": "https://localhost:8080/",
          "height": 524
        },
        "id": "1fecdDzmReeN",
        "outputId": "27012bbf-abf5-4816-c817-e9410081bf3a"
      },
      "source": [
        "%%html\n",
        "<iframe src=\"https://docs.google.com/presentation/d/1A0U5lCYGzOIXmLi0i-P6pu4gUhBxvj3z11mUjAuSLSA/edit?usp=sharing\" width=\"800\" height=\"500\"></iframe>"
      ],
      "execution_count": null,
      "outputs": [
        {
          "output_type": "display_data",
          "data": {
            "text/html": [
              "<iframe src=\"https://docs.google.com/presentation/d/1A0U5lCYGzOIXmLi0i-P6pu4gUhBxvj3z11mUjAuSLSA/edit?usp=sharing\" width=\"800\" height=\"500\"></iframe>"
            ],
            "text/plain": [
              "<IPython.core.display.HTML object>"
            ]
          },
          "metadata": {}
        }
      ]
    },
    {
      "cell_type": "markdown",
      "metadata": {
        "id": "tt7U6aQNR_ps"
      },
      "source": [
        "# **Algorithmique et programmation en cycle III et IV**\n",
        "\n",
        "* langage utilisé : **Scratch** (https://scratch.mit.edu/)\n",
        "* habiletés développées :\n",
        "    * déplacements et orientations dans l'environnement\n",
        "    * manipulation de variables simples ou de listes\n",
        "    * tests et boucles\n",
        "    * programmation événementielle\n",
        "    * programation parallèle d'objets agissant et intéragissant \n",
        "        * entre eux, \n",
        "        * avec leur environnement, \n",
        "        * avec l'usager\n",
        "\n",
        "* exemples : \n",
        "\n",
        "*Programmer la réalisation des figures suivantes :*\n",
        "\n",
        "<img src=\"https://drive.google.com/uc?id=1jaXyHT7OJ6IffWmtm10nTPhZ7xqyHBtP\" width=\"650\" height=\"300\" align = \"left\"/>"
      ]
    },
    {
      "cell_type": "markdown",
      "metadata": {
        "id": "QBum6InZaBDh"
      },
      "source": [
        "# **Outils**"
      ]
    },
    {
      "cell_type": "markdown",
      "metadata": {
        "id": "BPvY5LF8EeGW"
      },
      "source": [
        "\n",
        "\n",
        "## **Thonny**\n",
        "\n",
        "***Thonny*** est un **IDE** (Interface de Développement Intégré) qui permet de travailler en Python sans gros souci technique, qui existe pour toutes les plate-formes (Windows, MacOS, Linux).\n",
        "\n",
        "**https://thonny.org/**\n",
        "\n",
        "<img src=\"https://drive.google.com/uc?id=1mkUDDDlNm2MynkD2i5sTsHE1TP0iYGDN\" width=\"620\" height=\"400\" align = \"center\"/>\n",
        "\n",
        "\n",
        "Il est possible d'installer, directement depuis son interface, des modules complémentaires sans aucune difficulté, ce qui le distingue vraiment des autre IDE.\n",
        "\n",
        "Pour ce faire, dans \"Outils...\", \"Gérer les paquets...\", pour installer le module fort utile \"***numpy***\", taper \"numpy\" dans la barre de recherche puis cliquer sur \"Rechercher sur PyPI\"\n",
        "\n",
        "<img src=\"https://drive.google.com/uc?id=1m8cWw8pKD-lGrNkQWeLevHFhA8796G4B\" width=\"620\" height=\"130\" align = \"center\"/>\n",
        "\n",
        "puis\n",
        "\n",
        "<img src=\"https://drive.google.com/uc?id=1e0Mmls9SB5IvDp9_dIO_p-iHfWWTB9pq\" width=\"620\" height=\"400\" align = \"center\"/>\n",
        "\n",
        "## **Console et éditeur en ligne**\n",
        "\n",
        "Il est possible d'utiliser une plateforme en ligne, nommée \"Basthon\" (BAc à Sable pour pyTHON), qui travaille directement dans le navigateur internet.\n",
        "\n",
        "**https://console.basthon.fr/** \n",
        "\n",
        "La partie droite de la fenêtre s'appelle la **\"console\"** : on peut y taper directement les commandes, derrière le *prompt* **>>>**, et on les exécute avec la touche \"Entrée\".\n",
        "\n",
        "<img src=\"https://drive.google.com/uc?id=1kaIe7bEKmgbKPKD15042-MuAVVQo6tmK\" width=\"820\" height=\"400\" align = \"center\"/>\n",
        "\n",
        "\n",
        "La partie gauche s'appelle l' **\"éditeur\"**. On y saisit les programmes et leurs fonctions, que l'on peut exécuter directement en appuyant sur le bouton \"Exécuter\", soit en les appelant dans la console.\n",
        "\n",
        "## **Les NoteBooks Jupyter**\n",
        "\n",
        "Les notebooks Jupyter sont un outil très intéressant pour apprendre à programmer, faire cours, ou faire un compte-rendu de TP.\n",
        "\n",
        "**https://notebook.basthon.fr/**\n",
        "\n",
        "Les notebooks permettent de mêler du texte (légèrement enrichi), du code Python, et des traces d'exécution.\n",
        "\n",
        "Que l'on soit en console ou dans un notebook, on peut (il faut...) enregistrer son travail sur son disque dur.\n",
        "\n",
        "Conseil pour nommer ses fichiers : donner un nom explicite, et le faire précéder de la date à l'envers : par exemple *20210826-TP1-Syracuse.ipynb* (\".ipynb\" est l'extension correspondant aux notebooks, \".py\" celle désignant les programmes Python)\n",
        "\n",
        "**À noter : les possesseurs d'un compte GMail peuvent utiliser leur Google Drive, et l'extension \"Colaboratory\", pour y écrire directement leurs notebooks. C'est TRÈS pratique !!!**\n",
        "\n",
        "## **Un outil complémentaire (pour Windows seulement) : Flowgorithm**\n",
        "\n",
        "À télécharger ici : http://www.flowgorithm.org/download/index.htm\n",
        "\n",
        "Ce logiciel permet de réaliser des organigrammes très visuels des algorithmes.\n",
        "\n",
        "<img src=\"https://drive.google.com/uc?id=1oK1gum4T30gBowJYOv43S4dwPoR0yZHW\" width=\"500\" height=\"460\" align = \"center\"/>\n",
        "\n",
        "Quand on veut réaliser un programme réalisant une tâche donnée, il est vivement conseillé de commencer par jeter ses idées sur un papier, en **décomposant** le problème initial en tâches plus petites et en les **ordonnant**.On peut même, dès ce stade de la réflexion, créer les **jeux de tests**,c'est-à-dire prévoir, avec quelques exemples de données d'entrée, ce que l'on s'attend à ce que le programme ou une de ses fonctions retourne.\n",
        "\n",
        "Puis, on formalise davantage l'**algorithme** en le mettant en forme, soit de manière linéaire (liste d'actions), soit de manière schématique comme dans Flowgorithm.\n",
        "\n",
        "Et seulement ensuite, on peut passer à la traduction dans un langage de programmation, le nôtre étant **Python**, d'ailleurs, Flowgorithm est doté d'une fonctionnalité permettant de traduire tout organigramme en un programme Python, exécutable et enregistrable !\n",
        "\n",
        "---\n"
      ]
    },
    {
      "cell_type": "markdown",
      "metadata": {
        "id": "T8qRTJ8GyT57"
      },
      "source": [
        "# **Les différents types de variables en Python**"
      ]
    },
    {
      "cell_type": "markdown",
      "metadata": {
        "id": "0WVu89H4ycQL"
      },
      "source": [
        "Une **variable** informatique est un comme un conteneur : une zone de mémoire, désignée par un **« identifiant »**, caractérisée par un **« type »**, et contenant une **« valeur »**.\n",
        "\n",
        "\n",
        "Selon les langages de programmation, les variables doivent être « déclarées » ou non. En Python, cela n'est pas nécessaire : une variable adopte le type qu'on lui donne lors de sa première affectation, et on peut lui faire changer de type en cours d'exécution d'un programme.\n",
        "\n",
        "En Python, on dispose de types de variables très variés, en voici quelques-uns :\n",
        "* **Types « simples »** (le conteneur ne peut contenir qu'une unique valeur)\n",
        "    * **Booléens (bool)**, qui ne peuvent prendre pour valeur que True ou False\n",
        "    * **Entiers (int)**\n",
        "    * **Flottants (float)**, qui peuvent être assimilés à des nombres décimaux, encore qu'ils ne soient pas constitués de dixièmes, centièmes, etc... mais de demis, quarts, huitièmes, etc... \u000b(ceci pose souvent des problèmes d'erreurs inattendues : par exemple, le test 0.2 + 0.1 == 0.3 retourne \"False\" !)\n",
        "    * **Caractères (chr)** : signes alpha-numériques\n",
        "\n",
        "* **Types « construits » ou composés** (la variable contient plusieurs valeurs, parfois de types différents, parfois « indexées », c'est-à-dire numérotées)\n",
        "    * **Listes (list)** : les éléments sont ordonnés, une liste est **« itérable »**, c'est-à-dire qu'on peut faire tourner une boucle sur ses éléments pris un à un.\n",
        "    * **Dictionnaires (dict)** : les éléments d'un dictionnaire sont constitués d'une **« clé »** et d'une **« valeur »** (qui peut elle-même être d'un type simple ou construit)\n",
        "    * **Chaînes de caractères (str)** : groupement de caractères, itérable\n",
        "\n",
        "---"
      ]
    },
    {
      "cell_type": "markdown",
      "metadata": {
        "id": "u1lL1Q670FKC"
      },
      "source": [
        "# **Les quatre familles d'instructions de l'algorithmique**"
      ]
    },
    {
      "cell_type": "markdown",
      "metadata": {
        "id": "fu2MtDeE0QnN"
      },
      "source": [
        "En algorithmique, on dispose de quatre (et quatre seulement) familles d'instructions :\n",
        "* **L'« affectation »** (on donne ou redonne une valeur à une variable)\n",
        "* **La « lecture »** et **l'« écriture »** (la machine interagit avec l'utilisateur respectivement pour lui demander la valeur d'une variable ou afficher son contenu)\n",
        "* Et **les « structures »**\n",
        "    * **« structures conditionnelles » ou « tests »** :\u000bon teste si une condition est réalisée ou non, et selon les cas, on exécute telle ou telle séquence d'instructions\n",
        "    * **« structures répétitives » ou « boucles »** \n",
        "        * **Boucles « non bornées »** : on ne sait pas combien de fois on va l'exécuter, ceci se fera **« tant qu' »** une condition d'arrête ne sera pas réalisée\n",
        "        * **Boucles « bornées »** : on sait d'emblée combien de fois on veut exécuter la boucle, ni plus ni moins.\n",
        "\n",
        "---\n"
      ]
    },
    {
      "cell_type": "code",
      "metadata": {
        "id": "MclmVCToYaqj"
      },
      "source": [
        ""
      ],
      "execution_count": null,
      "outputs": []
    },
    {
      "cell_type": "markdown",
      "metadata": {
        "id": "uGW15CmwDle8"
      },
      "source": [
        "# **TP n°1 : Algorithmique et programmation, fonctions**\n",
        "\n",
        "Le TP suivant est un classique, mais il permet de :\n",
        "* faire le point sur les principales structures algorithmiques et la programmation, \n",
        "* (re-?)mettre en place les bonnes pratiques (utilisation de fonctions, commentaires, etc.)\n",
        "* (re-)découvrir plusieurs outils pour la programmation Python (éditeur, console, notebook)\n",
        "\n",
        "\n",
        "\n"
      ]
    },
    {
      "cell_type": "markdown",
      "metadata": {
        "id": "RscO_6PwVlYC"
      },
      "source": [
        "## **La suite de Syracuse**"
      ]
    },
    {
      "cell_type": "markdown",
      "metadata": {
        "id": "Pky1JGgMEVhf"
      },
      "source": [
        "\n",
        "\n",
        "### **1. L'articulation**\n",
        "\n",
        "La suite de Syracuse, également appelée suite de Collatz, du nom de son inventeur en 1925 est encore l'objet d'études de nos jours.\n",
        "\n",
        "Voici la recette pour passer d'un nombre de la sute au suivant :\n",
        "\n",
        "*On choisit un nombre entier, s'il est pair, on le divise par deux, sinon, on le multiplie par 3 et on ajoute 1*\n",
        "\n",
        "--> Écrire l'algorithme sur papier\n",
        "\n",
        "--> Le schématiser dans Flowgorithm (ou sur papier)\n",
        "\n",
        "--> Traduire l'algorithme en Python\n",
        "\n",
        "--> Fabriquer une fonction Python, d'entête : \n",
        "\n",
        "    def syracuse(N) :\n",
        "\n",
        "qui reçoit un entier N en entrée et renvoie son successeur dans la suite de Syracuse.\n",
        "\n",
        "**tests** : On s'attend à ce que cette fonction retourne 10 si on y entre 3, et 4 si on y entre 8.\n",
        "\n",
        "***(notions travaillées : \"Si...alors...sinon\", Fonction)***\n",
        "\n"
      ]
    },
    {
      "cell_type": "code",
      "metadata": {
        "id": "MiASz8-tS5T0"
      },
      "source": [
        "def syracuse(N) :\n",
        "    if N%2 == 0 :   # l'opération % permet d'obtenir le reste dans la division entière\n",
        "                    # d'un entier par un autre entier. On l'appelle \"MODULO\"\n",
        "        r = N//2    # Le // est l'opérateur de division entière, par oppoistion avec /, division décimale\n",
        "    else :\n",
        "        r = 3*N + 1\n",
        "    return r"
      ],
      "execution_count": null,
      "outputs": []
    },
    {
      "cell_type": "code",
      "metadata": {
        "colab": {
          "base_uri": "https://localhost:8080/"
        },
        "id": "aO9RzDmGTO50",
        "outputId": "d8c162b7-066d-4666-94d0-bcc61adacf15"
      },
      "source": [
        "syracuse(3)"
      ],
      "execution_count": null,
      "outputs": [
        {
          "output_type": "execute_result",
          "data": {
            "text/plain": [
              "10"
            ]
          },
          "metadata": {},
          "execution_count": 4
        }
      ]
    },
    {
      "cell_type": "code",
      "metadata": {
        "id": "vHz94iKATQ6p"
      },
      "source": [
        "syracuse(8.0)"
      ],
      "execution_count": null,
      "outputs": []
    },
    {
      "cell_type": "markdown",
      "metadata": {
        "id": "w_6wSG83xkv3"
      },
      "source": [
        "**Remarque :**\n",
        "\n",
        "Remplacer le N//2 par N/2 et comprendre la différence entre les deux résultats obtenus"
      ]
    },
    {
      "cell_type": "markdown",
      "metadata": {
        "id": "N5_UcDlfTbQ6"
      },
      "source": [
        "### **2. La suite et la conjecture de Syracuse**\n",
        "\n",
        "*Il paraît que (c'est les matheux qui le disent... méfiance...),*\n",
        "\n",
        "*quel que soit l'entier N duquel on part, en réitérant le processus, on parvient toujours à 1... (Cela n'a jamais été démontré, d'où le nom de \"conjecture\")*\n",
        "\n",
        "*Un entier N étant donné, écrire la suite des nombres menant jusqu'à 1*\n",
        "\n",
        "--> Écrire l'algorithme sur papier\n",
        "\n",
        "--> Le tester à la main, en prenant pour première valeur N = 7\n",
        "\n",
        "--> Le schématiser dans Flowgorithm\n",
        "\n",
        "--> Traduire l'algorithme en Python\n",
        "\n",
        "--> Fabriquer une fonction Python, nommée suite_syracuse(N), qui reçoit en entrée l'entier N, calcule et imprime les termes successifs de la suite correspndant, jusqu'à 1.\n",
        "\n",
        "--> Commenter la fonction ainsi obtenue\n",
        "\n",
        "***(notions travaillées : \"Tant que ...\")***"
      ]
    },
    {
      "cell_type": "code",
      "metadata": {
        "id": "xysqDjAKTSrf"
      },
      "source": [
        "def suite_syracuse(N) :\n",
        "    '''Fonction qui reçoit un entier N, calcule et imprime la suite de Syracuse de 1er terme ce nombre'''\n",
        "\n",
        "    print(N, end = \" \")\n",
        "    while N != 1 : # Tant que l'on n'a pas atteint 1\n",
        "        N = syracuse(N)     # on appelle la fonction \"syracuse\" pour calculer le terme suivant\n",
        "                            # on réaffecte N avec la nouvelle valeur\n",
        "        print(N, end = \" \")\n",
        "        # Cette fonction ne retourne rien pour l'instant...\n"
      ],
      "execution_count": null,
      "outputs": []
    },
    {
      "cell_type": "code",
      "metadata": {
        "id": "m7ye2xlQVB46"
      },
      "source": [
        "suite_syracuse(7)"
      ],
      "execution_count": null,
      "outputs": []
    },
    {
      "cell_type": "markdown",
      "metadata": {
        "id": "vTpCLNOdVad5"
      },
      "source": [
        "**Remarque : habituellement, il est déconseillé, voire interdit, de faire des \"*print*\" , sauf à des fins de tests**"
      ]
    },
    {
      "cell_type": "markdown",
      "metadata": {
        "id": "1xDoYqJnV5iz"
      },
      "source": [
        "### **3. Temps de vol**\n",
        "\n",
        "*À chaque suite correspond un certain nombre d'itérations avant d'arriver à 1, cela s'appelle le* ***temps de vol***. \n",
        "\n",
        "--> Compléter l'organigramme Flogorithm\n",
        "\n",
        "--> Compléter la fonction précédente pour qu'elle calcule et affiche le temps de vol de la suite pour un entier N donné en entrée"
      ]
    },
    {
      "cell_type": "code",
      "metadata": {
        "id": "TC0PdIZyVEpE"
      },
      "source": [
        "def suite_syracuse(N) :\n",
        "    '''Fonction qui reçoit un entier N, calcule et imprime la suite de Syracuse de 1er terme ce nombre, \n",
        "    ainsi que le temps de vol correspondant'''\n",
        "\n",
        "    temps_de_vol = 1 # la valeur initiale est comptée comme n°1\n",
        "    print(N, end = \" \")\n",
        "    while N != 1 : \n",
        "        N = syracuse(N)     \n",
        "        temps_de_vol = temps_de_vol + 1\n",
        "        print(N, end = \" \")\n",
        "    print()\n",
        "    print(\"Temps de vol :\" , temps_de_vol)"
      ],
      "execution_count": null,
      "outputs": []
    },
    {
      "cell_type": "code",
      "metadata": {
        "id": "zv4KVMQKYNGX"
      },
      "source": [
        "suite_syracuse(7)"
      ],
      "execution_count": null,
      "outputs": []
    },
    {
      "cell_type": "code",
      "metadata": {
        "id": "VYhUCKwEw0zL"
      },
      "source": [
        "suite_syracuse(3711)"
      ],
      "execution_count": null,
      "outputs": []
    },
    {
      "cell_type": "markdown",
      "metadata": {
        "id": "drLM5FxYZJG1"
      },
      "source": [
        "### **4. Altitude**\n",
        "\n",
        "*Chaque suite comprend un maximum appelé l'* ***altitude***. \n",
        "\n",
        "--> Compléter l'organigramme Flogorithm\n",
        "\n",
        "--> Compléter la fonction précédente pour qu'elle calcule et affiche l'altitude de la suite pour un entier N donné en entrée\n",
        "\n",
        "***(notions travaillées : \"Si...alors\")***"
      ]
    },
    {
      "cell_type": "code",
      "metadata": {
        "id": "E-f70Fz4bSVn"
      },
      "source": [
        "def suite_syracuse(N) :\n",
        "    '''Fonction qui reçoit un entier N, calcule et imprime la suite de Syracuse de 1er terme ce nombre, \n",
        "    ainsi que le temps de vol et l'altitude correspondants'''\n",
        "\n",
        "    temps_de_vol = 1    # la valeur initiale est comptée comme n°1\n",
        "    altitude = N        # le plus haut pour l'instant est N lui-même\n",
        "    print(N, end = \" \")\n",
        "    while N != 1 : \n",
        "        N = syracuse(N)     \n",
        "        temps_de_vol = temps_de_vol + 1\n",
        "        if N > altitude : # on doit changer l'altitude actuelle\n",
        "            altitude = N\n",
        "        print(N, end = \" \")\n",
        "    print()\n",
        "    print(\"Temps de vol :\" , temps_de_vol)\n",
        "    print(\"Altitude :\" , altitude)"
      ],
      "execution_count": null,
      "outputs": []
    },
    {
      "cell_type": "code",
      "metadata": {
        "id": "zPmpSUgEcDMU",
        "colab": {
          "base_uri": "https://localhost:8080/",
          "height": 322
        },
        "outputId": "72634f72-7f49-4e3b-f874-842ea6f4a82c"
      },
      "source": [
        "suite_syracuse(7)"
      ],
      "execution_count": null,
      "outputs": [
        {
          "output_type": "stream",
          "name": "stdout",
          "text": [
            "7 "
          ]
        },
        {
          "output_type": "error",
          "ename": "NameError",
          "evalue": "ignored",
          "traceback": [
            "\u001b[0;31m---------------------------------------------------------------------------\u001b[0m",
            "\u001b[0;31mNameError\u001b[0m                                 Traceback (most recent call last)",
            "\u001b[0;32m<ipython-input-2-a73948b37d8f>\u001b[0m in \u001b[0;36m<module>\u001b[0;34m()\u001b[0m\n\u001b[0;32m----> 1\u001b[0;31m \u001b[0msuite_syracuse\u001b[0m\u001b[0;34m(\u001b[0m\u001b[0;36m7\u001b[0m\u001b[0;34m)\u001b[0m\u001b[0;34m\u001b[0m\u001b[0;34m\u001b[0m\u001b[0m\n\u001b[0m",
            "\u001b[0;32m<ipython-input-1-e8d4ed271557>\u001b[0m in \u001b[0;36msuite_syracuse\u001b[0;34m(N)\u001b[0m\n\u001b[1;32m      7\u001b[0m     \u001b[0mprint\u001b[0m\u001b[0;34m(\u001b[0m\u001b[0mN\u001b[0m\u001b[0;34m,\u001b[0m \u001b[0mend\u001b[0m \u001b[0;34m=\u001b[0m \u001b[0;34m\" \"\u001b[0m\u001b[0;34m)\u001b[0m\u001b[0;34m\u001b[0m\u001b[0;34m\u001b[0m\u001b[0m\n\u001b[1;32m      8\u001b[0m     \u001b[0;32mwhile\u001b[0m \u001b[0mN\u001b[0m \u001b[0;34m!=\u001b[0m \u001b[0;36m1\u001b[0m \u001b[0;34m:\u001b[0m\u001b[0;34m\u001b[0m\u001b[0;34m\u001b[0m\u001b[0m\n\u001b[0;32m----> 9\u001b[0;31m         \u001b[0mN\u001b[0m \u001b[0;34m=\u001b[0m \u001b[0msyracuse\u001b[0m\u001b[0;34m(\u001b[0m\u001b[0mN\u001b[0m\u001b[0;34m)\u001b[0m\u001b[0;34m\u001b[0m\u001b[0;34m\u001b[0m\u001b[0m\n\u001b[0m\u001b[1;32m     10\u001b[0m         \u001b[0mtemps_de_vol\u001b[0m \u001b[0;34m=\u001b[0m \u001b[0mtemps_de_vol\u001b[0m \u001b[0;34m+\u001b[0m \u001b[0;36m1\u001b[0m\u001b[0;34m\u001b[0m\u001b[0;34m\u001b[0m\u001b[0m\n\u001b[1;32m     11\u001b[0m         \u001b[0;32mif\u001b[0m \u001b[0mN\u001b[0m \u001b[0;34m>\u001b[0m \u001b[0maltitude\u001b[0m \u001b[0;34m:\u001b[0m \u001b[0;31m# on doit changer l'altitude actuelle\u001b[0m\u001b[0;34m\u001b[0m\u001b[0;34m\u001b[0m\u001b[0m\n",
            "\u001b[0;31mNameError\u001b[0m: name 'syracuse' is not defined"
          ]
        }
      ]
    },
    {
      "cell_type": "code",
      "metadata": {
        "id": "u9ld--b9xH8J"
      },
      "source": [
        "suite_syracuse(4591)"
      ],
      "execution_count": null,
      "outputs": []
    },
    {
      "cell_type": "markdown",
      "metadata": {
        "id": "VEhJhIiJyCpE"
      },
      "source": [
        "**Observation de la circulation des variables à l'intérieur des fonctions à l'aide de *PythonTutor***\n",
        "\n",
        "*PythonTutor est un outil très pratique, pour observer le déroulement d'un programme, afin, éventuelleùent de le débuguer.\n",
        "On peut l'utiliser en ligne en lui apportant un programme Python ici :\n",
        "**http://pythontutor.com/visualize.html#mode=edit**\n",
        "\n",
        "ou bien directement depuis un notebook Jupyter..."
      ]
    },
    {
      "cell_type": "code",
      "metadata": {
        "id": "nITVgiZqyIxT",
        "colab": {
          "base_uri": "https://localhost:8080/"
        },
        "outputId": "aeeaa0e3-df82-4d12-8781-8dfe8fba37a3"
      },
      "source": [
        "!pip install metakernel\n",
        "\n",
        "from metakernel import register_ipython_magics\n",
        "register_ipython_magics()"
      ],
      "execution_count": null,
      "outputs": [
        {
          "output_type": "stream",
          "name": "stdout",
          "text": [
            "Collecting metakernel\n",
            "  Downloading metakernel-0.27.5-py2.py3-none-any.whl (208 kB)\n",
            "\u001b[?25l\r\u001b[K     |█▋                              | 10 kB 23.9 MB/s eta 0:00:01\r\u001b[K     |███▏                            | 20 kB 9.7 MB/s eta 0:00:01\r\u001b[K     |████▊                           | 30 kB 8.0 MB/s eta 0:00:01\r\u001b[K     |██████▎                         | 40 kB 7.2 MB/s eta 0:00:01\r\u001b[K     |███████▉                        | 51 kB 4.0 MB/s eta 0:00:01\r\u001b[K     |█████████▍                      | 61 kB 4.2 MB/s eta 0:00:01\r\u001b[K     |███████████                     | 71 kB 4.4 MB/s eta 0:00:01\r\u001b[K     |████████████▌                   | 81 kB 4.9 MB/s eta 0:00:01\r\u001b[K     |██████████████▏                 | 92 kB 3.6 MB/s eta 0:00:01\r\u001b[K     |███████████████▊                | 102 kB 3.9 MB/s eta 0:00:01\r\u001b[K     |█████████████████▎              | 112 kB 3.9 MB/s eta 0:00:01\r\u001b[K     |██████████████████▉             | 122 kB 3.9 MB/s eta 0:00:01\r\u001b[K     |████████████████████▍           | 133 kB 3.9 MB/s eta 0:00:01\r\u001b[K     |██████████████████████          | 143 kB 3.9 MB/s eta 0:00:01\r\u001b[K     |███████████████████████▌        | 153 kB 3.9 MB/s eta 0:00:01\r\u001b[K     |█████████████████████████       | 163 kB 3.9 MB/s eta 0:00:01\r\u001b[K     |██████████████████████████▊     | 174 kB 3.9 MB/s eta 0:00:01\r\u001b[K     |████████████████████████████▎   | 184 kB 3.9 MB/s eta 0:00:01\r\u001b[K     |█████████████████████████████▉  | 194 kB 3.9 MB/s eta 0:00:01\r\u001b[K     |███████████████████████████████▍| 204 kB 3.9 MB/s eta 0:00:01\r\u001b[K     |████████████████████████████████| 208 kB 3.9 MB/s \n",
            "\u001b[?25hRequirement already satisfied: ipykernel in /usr/local/lib/python3.7/dist-packages (from metakernel) (4.10.1)\n",
            "Requirement already satisfied: pexpect>=4.2 in /usr/local/lib/python3.7/dist-packages (from metakernel) (4.8.0)\n",
            "Requirement already satisfied: ptyprocess>=0.5 in /usr/local/lib/python3.7/dist-packages (from pexpect>=4.2->metakernel) (0.7.0)\n",
            "Requirement already satisfied: tornado>=4.0 in /usr/local/lib/python3.7/dist-packages (from ipykernel->metakernel) (5.1.1)\n",
            "Requirement already satisfied: jupyter-client in /usr/local/lib/python3.7/dist-packages (from ipykernel->metakernel) (5.3.5)\n",
            "Requirement already satisfied: traitlets>=4.1.0 in /usr/local/lib/python3.7/dist-packages (from ipykernel->metakernel) (5.0.5)\n",
            "Requirement already satisfied: ipython>=4.0.0 in /usr/local/lib/python3.7/dist-packages (from ipykernel->metakernel) (5.5.0)\n",
            "Requirement already satisfied: pygments in /usr/local/lib/python3.7/dist-packages (from ipython>=4.0.0->ipykernel->metakernel) (2.6.1)\n",
            "Requirement already satisfied: pickleshare in /usr/local/lib/python3.7/dist-packages (from ipython>=4.0.0->ipykernel->metakernel) (0.7.5)\n",
            "Requirement already satisfied: setuptools>=18.5 in /usr/local/lib/python3.7/dist-packages (from ipython>=4.0.0->ipykernel->metakernel) (57.4.0)\n",
            "Requirement already satisfied: simplegeneric>0.8 in /usr/local/lib/python3.7/dist-packages (from ipython>=4.0.0->ipykernel->metakernel) (0.8.1)\n",
            "Requirement already satisfied: decorator in /usr/local/lib/python3.7/dist-packages (from ipython>=4.0.0->ipykernel->metakernel) (4.4.2)\n",
            "Requirement already satisfied: prompt-toolkit<2.0.0,>=1.0.4 in /usr/local/lib/python3.7/dist-packages (from ipython>=4.0.0->ipykernel->metakernel) (1.0.18)\n",
            "Requirement already satisfied: six>=1.9.0 in /usr/local/lib/python3.7/dist-packages (from prompt-toolkit<2.0.0,>=1.0.4->ipython>=4.0.0->ipykernel->metakernel) (1.15.0)\n",
            "Requirement already satisfied: wcwidth in /usr/local/lib/python3.7/dist-packages (from prompt-toolkit<2.0.0,>=1.0.4->ipython>=4.0.0->ipykernel->metakernel) (0.2.5)\n",
            "Requirement already satisfied: ipython-genutils in /usr/local/lib/python3.7/dist-packages (from traitlets>=4.1.0->ipykernel->metakernel) (0.2.0)\n",
            "Requirement already satisfied: python-dateutil>=2.1 in /usr/local/lib/python3.7/dist-packages (from jupyter-client->ipykernel->metakernel) (2.8.2)\n",
            "Requirement already satisfied: jupyter-core>=4.6.0 in /usr/local/lib/python3.7/dist-packages (from jupyter-client->ipykernel->metakernel) (4.7.1)\n",
            "Requirement already satisfied: pyzmq>=13 in /usr/local/lib/python3.7/dist-packages (from jupyter-client->ipykernel->metakernel) (22.2.1)\n",
            "Installing collected packages: metakernel\n",
            "Successfully installed metakernel-0.27.5\n"
          ]
        }
      ]
    },
    {
      "cell_type": "code",
      "metadata": {
        "id": "MHcCSM48yZ_0",
        "colab": {
          "base_uri": "https://localhost:8080/",
          "height": 521
        },
        "outputId": "cd8c257e-1869-4c29-bd69-2890fc7bb5af"
      },
      "source": [
        "%%tutor # lancement de PythonTutor\n",
        "\n",
        "def syracuse(N) :\n",
        "    if N%2 == 0 :\n",
        "        r = N//2\n",
        "    else :\n",
        "        r = 3*N + 1\n",
        "    return r\n",
        "\n",
        "def suite_syracuse(N) :\n",
        "    temps_de_vol = 1    \n",
        "    altitude = N        \n",
        "\n",
        "    while N != 1 : \n",
        "        N = syracuse(N)     \n",
        "        temps_de_vol = temps_de_vol + 1\n",
        "        if N > altitude : \n",
        "            altitude = N\n",
        "    return temps_de_vol, altitude\n",
        "NN= 5        \n",
        "tdv, alt = suite_syracuse(NN)"
      ],
      "execution_count": null,
      "outputs": [
        {
          "output_type": "display_data",
          "data": {
            "text/html": [
              "\n",
              "        <iframe\n",
              "            width=\"100%\"\n",
              "            height=\"500\"\n",
              "            src=\"https://pythontutor.com/iframe-embed.html#code=%0Adef%20syracuse%28N%29%20%3A%0A%20%20%20%20if%20N%252%20%3D%3D%200%20%3A%0A%20%20%20%20%20%20%20%20r%20%3D%20N//2%0A%20%20%20%20else%20%3A%0A%20%20%20%20%20%20%20%20r%20%3D%203%2AN%20%2B%201%0A%20%20%20%20return%20r%0A%0Adef%20suite_syracuse%28N%29%20%3A%0A%20%20%20%20temps_de_vol%20%3D%201%20%20%20%20%0A%20%20%20%20altitude%20%3D%20N%20%20%20%20%20%20%20%20%0A%0A%20%20%20%20while%20N%20%21%3D%201%20%3A%20%0A%20%20%20%20%20%20%20%20N%20%3D%20syracuse%28N%29%20%20%20%20%20%0A%20%20%20%20%20%20%20%20temps_de_vol%20%3D%20temps_de_vol%20%2B%201%0A%20%20%20%20%20%20%20%20if%20N%20%3E%20altitude%20%3A%20%0A%20%20%20%20%20%20%20%20%20%20%20%20altitude%20%3D%20N%0A%20%20%20%20return%20temps_de_vol%2C%20altitude%0ANN%3D%205%20%20%20%20%20%20%20%20%0Atdv%2C%20alt%20%3D%20suite_syracuse%28NN%29&origin=opt-frontend.js&cumulative=false&heapPrimitives=false&textReferences=false&py=3&rawInputLstJSON=%5B%5D&curInstr=0&codeDivWidth=350&codeDivHeight=400\"\n",
              "            frameborder=\"0\"\n",
              "            allowfullscreen\n",
              "        ></iframe>\n",
              "        "
            ],
            "text/plain": [
              "<IPython.lib.display.IFrame at 0x7f9d0efc3150>"
            ]
          },
          "metadata": {}
        }
      ]
    },
    {
      "cell_type": "markdown",
      "metadata": {
        "id": "Uy5zTWjVcoPR"
      },
      "source": [
        "### **5. Vérification de la conjecture pour tout N inférieur ou égal à 5000**\n",
        "\n",
        "--> Compléter l'organigramme dans Flowgorithm\n",
        "\n",
        "--> Réécrire la fonction suite_syracuse pour l'adapter à cette nouvelle tâche.\n",
        "(On retirera toutes les commandes d'affichage, mais on marquera le passage dans les entiers divisibles par 400) et vérifier la conjecture jusqu'à 5000.\n",
        "\n",
        "***(notions travaillées : \"Pour...\")***"
      ]
    },
    {
      "cell_type": "code",
      "metadata": {
        "id": "qr-sDtENcGj4"
      },
      "source": [
        "def suite_syracuse(N) :\n",
        "    '''Fonction qui teste si la suite de Syracusse atteint bien 1 pour l'entier N donné'''\n",
        "    \n",
        "    while N != 1 : \n",
        "        N = syracuse(N)     \n",
        "        "
      ],
      "execution_count": null,
      "outputs": []
    },
    {
      "cell_type": "code",
      "metadata": {
        "id": "P9Pua8Olf2ep"
      },
      "source": [
        "for k in range(1,5001) :     # Pour k allant de 1 à 5000\n",
        "    suite_syracuse(k) \n",
        "    if k%400 == 0 :\n",
        "        print(k, \"OK,\", end = \" \")\n",
        "print()\n",
        "print(\"Conjecture vérifiée jusqu'à 5000\")"
      ],
      "execution_count": null,
      "outputs": []
    },
    {
      "cell_type": "markdown",
      "metadata": {
        "id": "VAjENkJlgzZD"
      },
      "source": [
        "### **6. Défi**\n",
        "\n",
        "--> Modifier la fonction suite_syracuse pour qu'elle renvoie le temps de vol et l'altitude de chaque entier testé, et compléter le programme pour qu'il calcule le record des temps de vol et le record des altitudes\n",
        "\n",
        "--> Compléter le programme pour qu'il indique pour quelles valeurs de k on atteint le record des temps de vol, et le record des altitudes\n"
      ]
    },
    {
      "cell_type": "code",
      "metadata": {
        "id": "DvekOAXljENl"
      },
      "source": [
        "def suite_syracuse(N) :\n",
        "    '''Fonction qui reçoit un entier N, calcule la suite de Syracuse de 1er terme ce nombre, \n",
        "    ainsi que le temps de vol et l'altitude correspondants'''\n",
        "    \n",
        "    temps_de_vol = 1   \n",
        "    altitude = N        \n",
        "    \n",
        "    while N != 1 : \n",
        "        N = syracuse(N)     \n",
        "        temps_de_vol = temps_de_vol + 1\n",
        "        if N > altitude : \n",
        "            altitude = N\n",
        "    return temps_de_vol, altitude"
      ],
      "execution_count": null,
      "outputs": []
    },
    {
      "cell_type": "code",
      "metadata": {
        "id": "H7odhNP0f3ep"
      },
      "source": [
        "record_tdv = 1\n",
        "record_alt = 1\n",
        "indice_record_tdv = 1\n",
        "indice_record_alt = 1\n",
        "\n",
        "for k in range(1,5001) :     # Pour k allant de 1 à 5000\n",
        "    tdv, alt = suite_syracuse(k) \n",
        "    if tdv > record_tdv :\n",
        "        record_tdv = tdv\n",
        "        indice_record_tdv = k\n",
        "    if alt > record_alt :\n",
        "        record_alt = alt\n",
        "        indice_record_alt = k\n",
        "    if k%400 == 0 :\n",
        "        print(k, \"OK,\", end = \" \")\n",
        "print()\n",
        "print(\"Conjecture vérifiée jusqu'à 5000\")\n",
        "print(\"record temps de vol : \", record_tdv, \" pour k = \", indice_record_tdv)\n",
        "print(\"record d'altitude : \", record_alt, \" pour k = \", indice_record_alt)"
      ],
      "execution_count": null,
      "outputs": []
    },
    {
      "cell_type": "markdown",
      "metadata": {
        "id": "OHjO39Kx1i8e"
      },
      "source": [
        "---"
      ]
    },
    {
      "cell_type": "markdown",
      "metadata": {
        "id": "dulKpkdcXIjQ"
      },
      "source": [
        "# **Pour le 16 décembre :**\n",
        "\n",
        "Le document suivant liste un certain nombre de programmes à faire traiter en 1<sup>ère</sup> et Terminale (spécialités ou options).\n",
        "\n",
        "**Choisir 3 thèmes, et dans chaque thème choisi, 1 programme à réaliser**\n",
        "\n"
      ]
    },
    {
      "cell_type": "code",
      "metadata": {
        "colab": {
          "base_uri": "https://localhost:8080/",
          "height": 524
        },
        "id": "iLRyNEybdG41",
        "outputId": "bf73077a-c3a3-404f-cf2c-72be0834a3e8"
      },
      "source": [
        "%%html\n",
        "<iframe src=\"https://docs.google.com/document/d/1ovEAt5r-6C3it8pDFsCGTmvqxPlydoGOSn2sJY4yqSg/edit?usp=sharing\" width=\"800\" height=\"500\"></iframe>"
      ],
      "execution_count": null,
      "outputs": [
        {
          "output_type": "display_data",
          "data": {
            "text/html": [
              "<iframe src=\"https://docs.google.com/document/d/1ovEAt5r-6C3it8pDFsCGTmvqxPlydoGOSn2sJY4yqSg/edit?usp=sharing\" width=\"800\" height=\"500\"></iframe>"
            ],
            "text/plain": [
              "<IPython.core.display.HTML object>"
            ]
          },
          "metadata": {}
        }
      ]
    },
    {
      "cell_type": "markdown",
      "metadata": {
        "id": "tXHJ8TAceWPx"
      },
      "source": [
        "**Ressources :**\n",
        "\n",
        "http://revue.sesamath.net/spip.php?article1226 "
      ]
    },
    {
      "cell_type": "code",
      "metadata": {
        "id": "BSrUxOhZVVjV"
      },
      "source": [
        ""
      ],
      "execution_count": null,
      "outputs": []
    }
  ]
}