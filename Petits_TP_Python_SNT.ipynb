{
  "nbformat": 4,
  "nbformat_minor": 0,
  "metadata": {
    "colab": {
      "name": "Petits TP Python SNT.ipynb",
      "provenance": [],
      "authorship_tag": "ABX9TyNA2KxsECtlPrZ2TBreJhqp",
      "include_colab_link": true
    },
    "kernelspec": {
      "name": "python3",
      "display_name": "Python 3"
    },
    "language_info": {
      "name": "python"
    }
  },
  "cells": [
    {
      "cell_type": "markdown",
      "metadata": {
        "id": "view-in-github",
        "colab_type": "text"
      },
      "source": [
        "<a href=\"https://colab.research.google.com/github/othoni-hub/NSI/blob/main/Petits_TP_Python_SNT.ipynb\" target=\"_parent\"><img src=\"https://colab.research.google.com/assets/colab-badge.svg\" alt=\"Open In Colab\"/></a>"
      ]
    },
    {
      "cell_type": "markdown",
      "metadata": {
        "id": "codSfMFVo-k8"
      },
      "source": [
        " \n",
        "# UCO - Faculté d'Éducation - Master MEEF Numérique et Sciences Informatiques (NSI) - Stagiaires IFUCOME Sciences Numériques et Technologies (SNT)\n",
        "\n",
        "<img src=\"https://drive.google.com/uc?id=16nkhvBuok_ooq3hPD2FOSp2H7PlE27wI\" width=\"130\" height=\"130\" align = \"right\"/>\n",
        "\n",
        "<img src=\"https://drive.google.com/uc?id=12Wo3LubGGT4qOvYFAuLP4CyCuwjKNVuk\" width=\"230\" height=\"150\" align = \"left\"/>\n",
        "\n",
        "## **Petits TP Python pour SNT**\n",
        "\n",
        "\n",
        "\n",
        "# **O.THÖNI**\n",
        "\n",
        "**- UCO-IFUCOME -**\n",
        "\n",
        "*Document sous licence Creative Commons (CC) : By - NC - SA*\n"
      ]
    },
    {
      "cell_type": "markdown",
      "metadata": {
        "id": "IZUfDtvHzyma"
      },
      "source": [
        "En SNT, en 2<sup> nde</sup>, les compétences en terme de pensée algorithmique et de programmation ne sont encore qu'au stade embryonnaire.\n",
        "\n",
        "En voici une brève nomenclature...\n",
        "\n",
        "<img src=\"https://drive.google.com/uc?id=1Wv4XnYRw4nmPfUPle39hBLd3OdrNe0m3\" width=\"650\" height=\"380\" align = \"left\"/>\n",
        "<img src=\"https://drive.google.com/uc?id=1vxWv4SQQZTMdUAEJdAexku9lkEtSyejJ\" width=\"650\" height=\"380\" align = \"right\"/>"
      ]
    },
    {
      "cell_type": "markdown",
      "metadata": {
        "id": "zxpS26l8ylLJ"
      },
      "source": [
        "# **1<sup>er</sup> petit TP : Développement conduit par les tests (TDD)**\n",
        "\n",
        "L'occasion de toucher du doigt quelques bonnes pratiques de programmation :\n",
        "\n",
        "* Granularisation de la tâche au moyen de fonctions\n",
        "* Spécifications des fonctions (DocStrings)\n",
        "* Élaboration de jeu de tests\n",
        "* Gestion des erreurs\n",
        "\n",
        "L'occasion aussi de voir à l'oeuvre quelques types de variables : entiers, chaînes, listes, dictionnaires.\n",
        "\n",
        "Le principe, en une image :\n",
        "\n",
        "<img src=\"https://image.slidesharecdn.com/80-191204180803/95/test-driven-development-propuls-par-les-legos-7-638.jpg?cb=1575482946\" width=\"600\" height=\"350\" />\n",
        "\n",
        "\n",
        "Tout est là, dans le NoteBook Jupyter ci-après !\n"
      ]
    },
    {
      "cell_type": "markdown",
      "metadata": {
        "id": "0YBFiyIaseP8"
      },
      "source": [
        "https://mybinder.org/v2/gh/othoni-hub/NSI/HEAD?filepath=TP_Développement_conduit_par_les_tests.ipynb"
      ]
    },
    {
      "cell_type": "markdown",
      "metadata": {
        "id": "rqskl0H56rKw"
      },
      "source": [
        "# **2<sup>ème</sup> petit  TP : l'image numérique et son retraitement avec Python**\n",
        "\n",
        "**Objectifs :**\n",
        "* Comprendre la nature matricielle d'une image numérique\n",
        "* Mettre en oeuvre des modifications simples mais spectaculaires\n",
        "* Manipuler des listes de listes... puisqu'il le faut...\n",
        "* Aborder la gestion de fichiers, et leurs types"
      ]
    },
    {
      "cell_type": "markdown",
      "metadata": {
        "id": "bBap0NF4BIK4"
      },
      "source": [
        "* Version sans Numpy : que des listes Python\n",
        "\n",
        "https://mybinder.org/v2/gh/othoni-hub/NSI/HEAD?filepath=TP_tt_image_sans_np.ipynb\n",
        "\n",
        "* Version avec Numpy, pour aller plus loin en Terminale (Convolution, filtres, compression, etc.)\n",
        "\n",
        "https://mybinder.org/v2/gh/othoni-hub/NSI/HEAD?filepath=TP_tt_image_V_np.ipynb\n",
        "\n"
      ]
    },
    {
      "cell_type": "markdown",
      "metadata": {
        "id": "o2DryVfsDNhJ"
      },
      "source": [
        "# **3<sup>ème</sup> petit  TP : la géolocalisation avec Python**\n",
        "\n",
        "<img src=\"https://drive.google.com/uc?id=1pdOnNG9ZRNGF0jLGll3lbP8Y7XJfTok-\" width=\"420\" height=\"350\" align = \"right\"/>\n",
        "\n",
        "**Objectifs :**\n",
        "* Comprendre en quoi consiste la géolocalisation\n",
        "* Accéder à des données réelles ouvertes utilisant la géolocalisation (ISS, bus angevins, carte choroplèthe)\n",
        "* Observer des outils Python pour la gestion des fichiers (pour ceux qui poursuivront en NSI)\n",
        "* Approcher des DataFrames Pandas pour le traitement des données et leur visualisation dans MatPlotLib.\n",
        "\n"
      ]
    },
    {
      "cell_type": "markdown",
      "metadata": {
        "id": "FIgJpOskH0ni"
      },
      "source": [
        "https://drive.google.com/file/d/1STpuJCEVveCb_Csjwy2XgB6aTJRoWUh0/view?usp=sharing"
      ]
    },
    {
      "cell_type": "code",
      "metadata": {
        "id": "9oZWBfWIpTwe"
      },
      "source": [
        ""
      ],
      "execution_count": null,
      "outputs": []
    }
  ]
}